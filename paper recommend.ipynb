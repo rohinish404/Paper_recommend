{
 "cells": [
  {
   "cell_type": "code",
   "execution_count": 147,
   "id": "1881a474",
   "metadata": {},
   "outputs": [],
   "source": [
    "import pandas as pd"
   ]
  },
  {
   "cell_type": "code",
   "execution_count": 148,
   "id": "3b87aac3",
   "metadata": {},
   "outputs": [],
   "source": [
    "df1 = pd.read_csv('archive (5)/arxiv_data.csv')\n",
    "df2 = pd.read_csv('archive (5)/arxiv_data_210930-054931.csv')"
   ]
  },
  {
   "cell_type": "code",
   "execution_count": 149,
   "id": "55dc8db2",
   "metadata": {},
   "outputs": [
    {
     "data": {
      "text/html": [
       "<div>\n",
       "<style scoped>\n",
       "    .dataframe tbody tr th:only-of-type {\n",
       "        vertical-align: middle;\n",
       "    }\n",
       "\n",
       "    .dataframe tbody tr th {\n",
       "        vertical-align: top;\n",
       "    }\n",
       "\n",
       "    .dataframe thead th {\n",
       "        text-align: right;\n",
       "    }\n",
       "</style>\n",
       "<table border=\"1\" class=\"dataframe\">\n",
       "  <thead>\n",
       "    <tr style=\"text-align: right;\">\n",
       "      <th></th>\n",
       "      <th>titles</th>\n",
       "      <th>summaries</th>\n",
       "      <th>terms</th>\n",
       "    </tr>\n",
       "  </thead>\n",
       "  <tbody>\n",
       "    <tr>\n",
       "      <th>0</th>\n",
       "      <td>Survey on Semantic Stereo Matching / Semantic ...</td>\n",
       "      <td>Stereo matching is one of the widely used tech...</td>\n",
       "      <td>['cs.CV', 'cs.LG']</td>\n",
       "    </tr>\n",
       "    <tr>\n",
       "      <th>1</th>\n",
       "      <td>FUTURE-AI: Guiding Principles and Consensus Re...</td>\n",
       "      <td>The recent advancements in artificial intellig...</td>\n",
       "      <td>['cs.CV', 'cs.AI', 'cs.LG']</td>\n",
       "    </tr>\n",
       "    <tr>\n",
       "      <th>2</th>\n",
       "      <td>Enforcing Mutual Consistency of Hard Regions f...</td>\n",
       "      <td>In this paper, we proposed a novel mutual cons...</td>\n",
       "      <td>['cs.CV', 'cs.AI']</td>\n",
       "    </tr>\n",
       "    <tr>\n",
       "      <th>3</th>\n",
       "      <td>Parameter Decoupling Strategy for Semi-supervi...</td>\n",
       "      <td>Consistency training has proven to be an advan...</td>\n",
       "      <td>['cs.CV']</td>\n",
       "    </tr>\n",
       "    <tr>\n",
       "      <th>4</th>\n",
       "      <td>Background-Foreground Segmentation for Interio...</td>\n",
       "      <td>To ensure safety in automated driving, the cor...</td>\n",
       "      <td>['cs.CV', 'cs.LG']</td>\n",
       "    </tr>\n",
       "    <tr>\n",
       "      <th>...</th>\n",
       "      <td>...</td>\n",
       "      <td>...</td>\n",
       "      <td>...</td>\n",
       "    </tr>\n",
       "    <tr>\n",
       "      <th>51769</th>\n",
       "      <td>Hierarchically-coupled hidden Markov models fo...</td>\n",
       "      <td>We address the problem of analyzing sets of no...</td>\n",
       "      <td>['stat.ML', 'physics.bio-ph', 'q-bio.QM']</td>\n",
       "    </tr>\n",
       "    <tr>\n",
       "      <th>51770</th>\n",
       "      <td>Blinking Molecule Tracking</td>\n",
       "      <td>We discuss a method for tracking individual mo...</td>\n",
       "      <td>['cs.CV', 'cs.DM']</td>\n",
       "    </tr>\n",
       "    <tr>\n",
       "      <th>51771</th>\n",
       "      <td>Towards a Mathematical Foundation of Immunolog...</td>\n",
       "      <td>We attempt to set a mathematical foundation of...</td>\n",
       "      <td>['stat.ML', 'cs.LG', 'q-bio.GN']</td>\n",
       "    </tr>\n",
       "    <tr>\n",
       "      <th>51772</th>\n",
       "      <td>A Semi-Automatic Graph-Based Approach for Dete...</td>\n",
       "      <td>Diffusion Tensor Imaging (DTI) allows estimati...</td>\n",
       "      <td>['cs.CV']</td>\n",
       "    </tr>\n",
       "    <tr>\n",
       "      <th>51773</th>\n",
       "      <td>SparseCodePicking: feature extraction in mass ...</td>\n",
       "      <td>Mass spectrometry (MS) is an important techniq...</td>\n",
       "      <td>['stat.ML', 'physics.med-ph', 'stat.AP', 'stat...</td>\n",
       "    </tr>\n",
       "  </tbody>\n",
       "</table>\n",
       "<p>51774 rows × 3 columns</p>\n",
       "</div>"
      ],
      "text/plain": [
       "                                                  titles  \\\n",
       "0      Survey on Semantic Stereo Matching / Semantic ...   \n",
       "1      FUTURE-AI: Guiding Principles and Consensus Re...   \n",
       "2      Enforcing Mutual Consistency of Hard Regions f...   \n",
       "3      Parameter Decoupling Strategy for Semi-supervi...   \n",
       "4      Background-Foreground Segmentation for Interio...   \n",
       "...                                                  ...   \n",
       "51769  Hierarchically-coupled hidden Markov models fo...   \n",
       "51770                         Blinking Molecule Tracking   \n",
       "51771  Towards a Mathematical Foundation of Immunolog...   \n",
       "51772  A Semi-Automatic Graph-Based Approach for Dete...   \n",
       "51773  SparseCodePicking: feature extraction in mass ...   \n",
       "\n",
       "                                               summaries  \\\n",
       "0      Stereo matching is one of the widely used tech...   \n",
       "1      The recent advancements in artificial intellig...   \n",
       "2      In this paper, we proposed a novel mutual cons...   \n",
       "3      Consistency training has proven to be an advan...   \n",
       "4      To ensure safety in automated driving, the cor...   \n",
       "...                                                  ...   \n",
       "51769  We address the problem of analyzing sets of no...   \n",
       "51770  We discuss a method for tracking individual mo...   \n",
       "51771  We attempt to set a mathematical foundation of...   \n",
       "51772  Diffusion Tensor Imaging (DTI) allows estimati...   \n",
       "51773  Mass spectrometry (MS) is an important techniq...   \n",
       "\n",
       "                                                   terms  \n",
       "0                                     ['cs.CV', 'cs.LG']  \n",
       "1                            ['cs.CV', 'cs.AI', 'cs.LG']  \n",
       "2                                     ['cs.CV', 'cs.AI']  \n",
       "3                                              ['cs.CV']  \n",
       "4                                     ['cs.CV', 'cs.LG']  \n",
       "...                                                  ...  \n",
       "51769          ['stat.ML', 'physics.bio-ph', 'q-bio.QM']  \n",
       "51770                                 ['cs.CV', 'cs.DM']  \n",
       "51771                   ['stat.ML', 'cs.LG', 'q-bio.GN']  \n",
       "51772                                          ['cs.CV']  \n",
       "51773  ['stat.ML', 'physics.med-ph', 'stat.AP', 'stat...  \n",
       "\n",
       "[51774 rows x 3 columns]"
      ]
     },
     "execution_count": 149,
     "metadata": {},
     "output_type": "execute_result"
    }
   ],
   "source": [
    "df1"
   ]
  },
  {
   "cell_type": "code",
   "execution_count": 150,
   "id": "5566907c",
   "metadata": {},
   "outputs": [
    {
     "data": {
      "text/html": [
       "<div>\n",
       "<style scoped>\n",
       "    .dataframe tbody tr th:only-of-type {\n",
       "        vertical-align: middle;\n",
       "    }\n",
       "\n",
       "    .dataframe tbody tr th {\n",
       "        vertical-align: top;\n",
       "    }\n",
       "\n",
       "    .dataframe thead th {\n",
       "        text-align: right;\n",
       "    }\n",
       "</style>\n",
       "<table border=\"1\" class=\"dataframe\">\n",
       "  <thead>\n",
       "    <tr style=\"text-align: right;\">\n",
       "      <th></th>\n",
       "      <th>terms</th>\n",
       "      <th>titles</th>\n",
       "      <th>abstracts</th>\n",
       "    </tr>\n",
       "  </thead>\n",
       "  <tbody>\n",
       "    <tr>\n",
       "      <th>0</th>\n",
       "      <td>['cs.LG']</td>\n",
       "      <td>Multi-Level Attention Pooling for Graph Neural...</td>\n",
       "      <td>Graph neural networks (GNNs) have been widely ...</td>\n",
       "    </tr>\n",
       "    <tr>\n",
       "      <th>1</th>\n",
       "      <td>['cs.LG', 'cs.AI']</td>\n",
       "      <td>Decision Forests vs. Deep Networks: Conceptual...</td>\n",
       "      <td>Deep networks and decision forests (such as ra...</td>\n",
       "    </tr>\n",
       "    <tr>\n",
       "      <th>2</th>\n",
       "      <td>['cs.LG', 'cs.CR', 'stat.ML']</td>\n",
       "      <td>Power up! Robust Graph Convolutional Network v...</td>\n",
       "      <td>Graph convolutional networks (GCNs) are powerf...</td>\n",
       "    </tr>\n",
       "    <tr>\n",
       "      <th>3</th>\n",
       "      <td>['cs.LG', 'cs.CR']</td>\n",
       "      <td>Releasing Graph Neural Networks with Different...</td>\n",
       "      <td>With the increasing popularity of Graph Neural...</td>\n",
       "    </tr>\n",
       "    <tr>\n",
       "      <th>4</th>\n",
       "      <td>['cs.LG']</td>\n",
       "      <td>Recurrence-Aware Long-Term Cognitive Network f...</td>\n",
       "      <td>Machine learning solutions for pattern classif...</td>\n",
       "    </tr>\n",
       "    <tr>\n",
       "      <th>...</th>\n",
       "      <td>...</td>\n",
       "      <td>...</td>\n",
       "      <td>...</td>\n",
       "    </tr>\n",
       "    <tr>\n",
       "      <th>56176</th>\n",
       "      <td>['cs.CV', 'cs.IR']</td>\n",
       "      <td>Mining Spatio-temporal Data on Industrializati...</td>\n",
       "      <td>Despite the growing availability of big data i...</td>\n",
       "    </tr>\n",
       "    <tr>\n",
       "      <th>56177</th>\n",
       "      <td>['cs.LG', 'cs.AI', 'cs.CL', 'I.2.6; I.2.7']</td>\n",
       "      <td>Wav2Letter: an End-to-End ConvNet-based Speech...</td>\n",
       "      <td>This paper presents a simple end-to-end model ...</td>\n",
       "    </tr>\n",
       "    <tr>\n",
       "      <th>56178</th>\n",
       "      <td>['cs.LG']</td>\n",
       "      <td>Deep Reinforcement Learning with Double Q-lear...</td>\n",
       "      <td>The popular Q-learning algorithm is known to o...</td>\n",
       "    </tr>\n",
       "    <tr>\n",
       "      <th>56179</th>\n",
       "      <td>['stat.ML', 'cs.LG', 'math.OC']</td>\n",
       "      <td>Generalized Low Rank Models</td>\n",
       "      <td>Principal components analysis (PCA) is a well-...</td>\n",
       "    </tr>\n",
       "    <tr>\n",
       "      <th>56180</th>\n",
       "      <td>['cs.LG', 'cs.AI', 'stat.ML']</td>\n",
       "      <td>Chi-square Tests Driven Method for Learning th...</td>\n",
       "      <td>SDYNA is a general framework designed to addre...</td>\n",
       "    </tr>\n",
       "  </tbody>\n",
       "</table>\n",
       "<p>56181 rows × 3 columns</p>\n",
       "</div>"
      ],
      "text/plain": [
       "                                             terms  \\\n",
       "0                                        ['cs.LG']   \n",
       "1                               ['cs.LG', 'cs.AI']   \n",
       "2                    ['cs.LG', 'cs.CR', 'stat.ML']   \n",
       "3                               ['cs.LG', 'cs.CR']   \n",
       "4                                        ['cs.LG']   \n",
       "...                                            ...   \n",
       "56176                           ['cs.CV', 'cs.IR']   \n",
       "56177  ['cs.LG', 'cs.AI', 'cs.CL', 'I.2.6; I.2.7']   \n",
       "56178                                    ['cs.LG']   \n",
       "56179              ['stat.ML', 'cs.LG', 'math.OC']   \n",
       "56180                ['cs.LG', 'cs.AI', 'stat.ML']   \n",
       "\n",
       "                                                  titles  \\\n",
       "0      Multi-Level Attention Pooling for Graph Neural...   \n",
       "1      Decision Forests vs. Deep Networks: Conceptual...   \n",
       "2      Power up! Robust Graph Convolutional Network v...   \n",
       "3      Releasing Graph Neural Networks with Different...   \n",
       "4      Recurrence-Aware Long-Term Cognitive Network f...   \n",
       "...                                                  ...   \n",
       "56176  Mining Spatio-temporal Data on Industrializati...   \n",
       "56177  Wav2Letter: an End-to-End ConvNet-based Speech...   \n",
       "56178  Deep Reinforcement Learning with Double Q-lear...   \n",
       "56179                        Generalized Low Rank Models   \n",
       "56180  Chi-square Tests Driven Method for Learning th...   \n",
       "\n",
       "                                               abstracts  \n",
       "0      Graph neural networks (GNNs) have been widely ...  \n",
       "1      Deep networks and decision forests (such as ra...  \n",
       "2      Graph convolutional networks (GCNs) are powerf...  \n",
       "3      With the increasing popularity of Graph Neural...  \n",
       "4      Machine learning solutions for pattern classif...  \n",
       "...                                                  ...  \n",
       "56176  Despite the growing availability of big data i...  \n",
       "56177  This paper presents a simple end-to-end model ...  \n",
       "56178  The popular Q-learning algorithm is known to o...  \n",
       "56179  Principal components analysis (PCA) is a well-...  \n",
       "56180  SDYNA is a general framework designed to addre...  \n",
       "\n",
       "[56181 rows x 3 columns]"
      ]
     },
     "execution_count": 150,
     "metadata": {},
     "output_type": "execute_result"
    }
   ],
   "source": [
    "df2"
   ]
  },
  {
   "cell_type": "code",
   "execution_count": 151,
   "id": "ea16b538",
   "metadata": {},
   "outputs": [
    {
     "data": {
      "text/html": [
       "<div>\n",
       "<style scoped>\n",
       "    .dataframe tbody tr th:only-of-type {\n",
       "        vertical-align: middle;\n",
       "    }\n",
       "\n",
       "    .dataframe tbody tr th {\n",
       "        vertical-align: top;\n",
       "    }\n",
       "\n",
       "    .dataframe thead th {\n",
       "        text-align: right;\n",
       "    }\n",
       "</style>\n",
       "<table border=\"1\" class=\"dataframe\">\n",
       "  <thead>\n",
       "    <tr style=\"text-align: right;\">\n",
       "      <th></th>\n",
       "      <th>terms</th>\n",
       "      <th>titles</th>\n",
       "      <th>abstracts</th>\n",
       "      <th>Combined</th>\n",
       "    </tr>\n",
       "  </thead>\n",
       "  <tbody>\n",
       "    <tr>\n",
       "      <th>0</th>\n",
       "      <td>['cs.LG']</td>\n",
       "      <td>Multi-Level Attention Pooling for Graph Neural...</td>\n",
       "      <td>Graph neural networks (GNNs) have been widely ...</td>\n",
       "      <td>Multi-Level Attention Pooling for Graph Neural...</td>\n",
       "    </tr>\n",
       "    <tr>\n",
       "      <th>1</th>\n",
       "      <td>['cs.LG', 'cs.AI']</td>\n",
       "      <td>Decision Forests vs. Deep Networks: Conceptual...</td>\n",
       "      <td>Deep networks and decision forests (such as ra...</td>\n",
       "      <td>Decision Forests vs. Deep Networks: Conceptual...</td>\n",
       "    </tr>\n",
       "    <tr>\n",
       "      <th>2</th>\n",
       "      <td>['cs.LG', 'cs.CR', 'stat.ML']</td>\n",
       "      <td>Power up! Robust Graph Convolutional Network v...</td>\n",
       "      <td>Graph convolutional networks (GCNs) are powerf...</td>\n",
       "      <td>Power up! Robust Graph Convolutional Network v...</td>\n",
       "    </tr>\n",
       "    <tr>\n",
       "      <th>3</th>\n",
       "      <td>['cs.LG', 'cs.CR']</td>\n",
       "      <td>Releasing Graph Neural Networks with Different...</td>\n",
       "      <td>With the increasing popularity of Graph Neural...</td>\n",
       "      <td>Releasing Graph Neural Networks with Different...</td>\n",
       "    </tr>\n",
       "    <tr>\n",
       "      <th>4</th>\n",
       "      <td>['cs.LG']</td>\n",
       "      <td>Recurrence-Aware Long-Term Cognitive Network f...</td>\n",
       "      <td>Machine learning solutions for pattern classif...</td>\n",
       "      <td>Recurrence-Aware Long-Term Cognitive Network f...</td>\n",
       "    </tr>\n",
       "    <tr>\n",
       "      <th>...</th>\n",
       "      <td>...</td>\n",
       "      <td>...</td>\n",
       "      <td>...</td>\n",
       "      <td>...</td>\n",
       "    </tr>\n",
       "    <tr>\n",
       "      <th>56176</th>\n",
       "      <td>['cs.CV', 'cs.IR']</td>\n",
       "      <td>Mining Spatio-temporal Data on Industrializati...</td>\n",
       "      <td>Despite the growing availability of big data i...</td>\n",
       "      <td>Mining Spatio-temporal Data on Industrializati...</td>\n",
       "    </tr>\n",
       "    <tr>\n",
       "      <th>56177</th>\n",
       "      <td>['cs.LG', 'cs.AI', 'cs.CL', 'I.2.6; I.2.7']</td>\n",
       "      <td>Wav2Letter: an End-to-End ConvNet-based Speech...</td>\n",
       "      <td>This paper presents a simple end-to-end model ...</td>\n",
       "      <td>Wav2Letter: an End-to-End ConvNet-based Speech...</td>\n",
       "    </tr>\n",
       "    <tr>\n",
       "      <th>56178</th>\n",
       "      <td>['cs.LG']</td>\n",
       "      <td>Deep Reinforcement Learning with Double Q-lear...</td>\n",
       "      <td>The popular Q-learning algorithm is known to o...</td>\n",
       "      <td>Deep Reinforcement Learning with Double Q-lear...</td>\n",
       "    </tr>\n",
       "    <tr>\n",
       "      <th>56179</th>\n",
       "      <td>['stat.ML', 'cs.LG', 'math.OC']</td>\n",
       "      <td>Generalized Low Rank Models</td>\n",
       "      <td>Principal components analysis (PCA) is a well-...</td>\n",
       "      <td>Generalized Low Rank Models|||||.....ab: Princ...</td>\n",
       "    </tr>\n",
       "    <tr>\n",
       "      <th>56180</th>\n",
       "      <td>['cs.LG', 'cs.AI', 'stat.ML']</td>\n",
       "      <td>Chi-square Tests Driven Method for Learning th...</td>\n",
       "      <td>SDYNA is a general framework designed to addre...</td>\n",
       "      <td>Chi-square Tests Driven Method for Learning th...</td>\n",
       "    </tr>\n",
       "  </tbody>\n",
       "</table>\n",
       "<p>56181 rows × 4 columns</p>\n",
       "</div>"
      ],
      "text/plain": [
       "                                             terms  \\\n",
       "0                                        ['cs.LG']   \n",
       "1                               ['cs.LG', 'cs.AI']   \n",
       "2                    ['cs.LG', 'cs.CR', 'stat.ML']   \n",
       "3                               ['cs.LG', 'cs.CR']   \n",
       "4                                        ['cs.LG']   \n",
       "...                                            ...   \n",
       "56176                           ['cs.CV', 'cs.IR']   \n",
       "56177  ['cs.LG', 'cs.AI', 'cs.CL', 'I.2.6; I.2.7']   \n",
       "56178                                    ['cs.LG']   \n",
       "56179              ['stat.ML', 'cs.LG', 'math.OC']   \n",
       "56180                ['cs.LG', 'cs.AI', 'stat.ML']   \n",
       "\n",
       "                                                  titles  \\\n",
       "0      Multi-Level Attention Pooling for Graph Neural...   \n",
       "1      Decision Forests vs. Deep Networks: Conceptual...   \n",
       "2      Power up! Robust Graph Convolutional Network v...   \n",
       "3      Releasing Graph Neural Networks with Different...   \n",
       "4      Recurrence-Aware Long-Term Cognitive Network f...   \n",
       "...                                                  ...   \n",
       "56176  Mining Spatio-temporal Data on Industrializati...   \n",
       "56177  Wav2Letter: an End-to-End ConvNet-based Speech...   \n",
       "56178  Deep Reinforcement Learning with Double Q-lear...   \n",
       "56179                        Generalized Low Rank Models   \n",
       "56180  Chi-square Tests Driven Method for Learning th...   \n",
       "\n",
       "                                               abstracts  \\\n",
       "0      Graph neural networks (GNNs) have been widely ...   \n",
       "1      Deep networks and decision forests (such as ra...   \n",
       "2      Graph convolutional networks (GCNs) are powerf...   \n",
       "3      With the increasing popularity of Graph Neural...   \n",
       "4      Machine learning solutions for pattern classif...   \n",
       "...                                                  ...   \n",
       "56176  Despite the growing availability of big data i...   \n",
       "56177  This paper presents a simple end-to-end model ...   \n",
       "56178  The popular Q-learning algorithm is known to o...   \n",
       "56179  Principal components analysis (PCA) is a well-...   \n",
       "56180  SDYNA is a general framework designed to addre...   \n",
       "\n",
       "                                                Combined  \n",
       "0      Multi-Level Attention Pooling for Graph Neural...  \n",
       "1      Decision Forests vs. Deep Networks: Conceptual...  \n",
       "2      Power up! Robust Graph Convolutional Network v...  \n",
       "3      Releasing Graph Neural Networks with Different...  \n",
       "4      Recurrence-Aware Long-Term Cognitive Network f...  \n",
       "...                                                  ...  \n",
       "56176  Mining Spatio-temporal Data on Industrializati...  \n",
       "56177  Wav2Letter: an End-to-End ConvNet-based Speech...  \n",
       "56178  Deep Reinforcement Learning with Double Q-lear...  \n",
       "56179  Generalized Low Rank Models|||||.....ab: Princ...  \n",
       "56180  Chi-square Tests Driven Method for Learning th...  \n",
       "\n",
       "[56181 rows x 4 columns]"
      ]
     },
     "execution_count": 151,
     "metadata": {},
     "output_type": "execute_result"
    }
   ],
   "source": [
    "df2['Combined'] = df2['titles'].astype(str) + '|||||.....ab: ' + df2['abstracts'].astype(str)\n",
    "df2"
   ]
  },
  {
   "cell_type": "code",
   "execution_count": 152,
   "id": "b6a35a46",
   "metadata": {},
   "outputs": [
    {
     "data": {
      "text/html": [
       "<div>\n",
       "<style scoped>\n",
       "    .dataframe tbody tr th:only-of-type {\n",
       "        vertical-align: middle;\n",
       "    }\n",
       "\n",
       "    .dataframe tbody tr th {\n",
       "        vertical-align: top;\n",
       "    }\n",
       "\n",
       "    .dataframe thead th {\n",
       "        text-align: right;\n",
       "    }\n",
       "</style>\n",
       "<table border=\"1\" class=\"dataframe\">\n",
       "  <thead>\n",
       "    <tr style=\"text-align: right;\">\n",
       "      <th></th>\n",
       "      <th>Combined</th>\n",
       "    </tr>\n",
       "  </thead>\n",
       "  <tbody>\n",
       "    <tr>\n",
       "      <th>0</th>\n",
       "      <td>Multi-Level Attention Pooling for Graph Neural...</td>\n",
       "    </tr>\n",
       "    <tr>\n",
       "      <th>1</th>\n",
       "      <td>Decision Forests vs. Deep Networks: Conceptual...</td>\n",
       "    </tr>\n",
       "    <tr>\n",
       "      <th>2</th>\n",
       "      <td>Power up! Robust Graph Convolutional Network v...</td>\n",
       "    </tr>\n",
       "    <tr>\n",
       "      <th>3</th>\n",
       "      <td>Releasing Graph Neural Networks with Different...</td>\n",
       "    </tr>\n",
       "    <tr>\n",
       "      <th>4</th>\n",
       "      <td>Recurrence-Aware Long-Term Cognitive Network f...</td>\n",
       "    </tr>\n",
       "    <tr>\n",
       "      <th>...</th>\n",
       "      <td>...</td>\n",
       "    </tr>\n",
       "    <tr>\n",
       "      <th>56176</th>\n",
       "      <td>Mining Spatio-temporal Data on Industrializati...</td>\n",
       "    </tr>\n",
       "    <tr>\n",
       "      <th>56177</th>\n",
       "      <td>Wav2Letter: an End-to-End ConvNet-based Speech...</td>\n",
       "    </tr>\n",
       "    <tr>\n",
       "      <th>56178</th>\n",
       "      <td>Deep Reinforcement Learning with Double Q-lear...</td>\n",
       "    </tr>\n",
       "    <tr>\n",
       "      <th>56179</th>\n",
       "      <td>Generalized Low Rank Models|||||.....ab: Princ...</td>\n",
       "    </tr>\n",
       "    <tr>\n",
       "      <th>56180</th>\n",
       "      <td>Chi-square Tests Driven Method for Learning th...</td>\n",
       "    </tr>\n",
       "  </tbody>\n",
       "</table>\n",
       "<p>56181 rows × 1 columns</p>\n",
       "</div>"
      ],
      "text/plain": [
       "                                                Combined\n",
       "0      Multi-Level Attention Pooling for Graph Neural...\n",
       "1      Decision Forests vs. Deep Networks: Conceptual...\n",
       "2      Power up! Robust Graph Convolutional Network v...\n",
       "3      Releasing Graph Neural Networks with Different...\n",
       "4      Recurrence-Aware Long-Term Cognitive Network f...\n",
       "...                                                  ...\n",
       "56176  Mining Spatio-temporal Data on Industrializati...\n",
       "56177  Wav2Letter: an End-to-End ConvNet-based Speech...\n",
       "56178  Deep Reinforcement Learning with Double Q-lear...\n",
       "56179  Generalized Low Rank Models|||||.....ab: Princ...\n",
       "56180  Chi-square Tests Driven Method for Learning th...\n",
       "\n",
       "[56181 rows x 1 columns]"
      ]
     },
     "execution_count": 152,
     "metadata": {},
     "output_type": "execute_result"
    }
   ],
   "source": [
    "df3 = df2.drop(columns = [\"terms\",\"abstracts\",\"titles\"])\n",
    "df3"
   ]
  },
  {
   "cell_type": "code",
   "execution_count": 153,
   "id": "b7925f64",
   "metadata": {},
   "outputs": [
    {
     "data": {
      "text/plain": [
       "41120"
      ]
     },
     "execution_count": 153,
     "metadata": {},
     "output_type": "execute_result"
    }
   ],
   "source": [
    "df3['Combined'].nunique()"
   ]
  },
  {
   "cell_type": "code",
   "execution_count": 154,
   "id": "6aef57d5",
   "metadata": {},
   "outputs": [
    {
     "data": {
      "text/html": [
       "<div>\n",
       "<style scoped>\n",
       "    .dataframe tbody tr th:only-of-type {\n",
       "        vertical-align: middle;\n",
       "    }\n",
       "\n",
       "    .dataframe tbody tr th {\n",
       "        vertical-align: top;\n",
       "    }\n",
       "\n",
       "    .dataframe thead th {\n",
       "        text-align: right;\n",
       "    }\n",
       "</style>\n",
       "<table border=\"1\" class=\"dataframe\">\n",
       "  <thead>\n",
       "    <tr style=\"text-align: right;\">\n",
       "      <th></th>\n",
       "      <th>Combined</th>\n",
       "    </tr>\n",
       "  </thead>\n",
       "  <tbody>\n",
       "    <tr>\n",
       "      <th>0</th>\n",
       "      <td>Multi-Level Attention Pooling for Graph Neural...</td>\n",
       "    </tr>\n",
       "    <tr>\n",
       "      <th>1</th>\n",
       "      <td>Decision Forests vs. Deep Networks: Conceptual...</td>\n",
       "    </tr>\n",
       "    <tr>\n",
       "      <th>2</th>\n",
       "      <td>Power up! Robust Graph Convolutional Network v...</td>\n",
       "    </tr>\n",
       "    <tr>\n",
       "      <th>3</th>\n",
       "      <td>Releasing Graph Neural Networks with Different...</td>\n",
       "    </tr>\n",
       "    <tr>\n",
       "      <th>4</th>\n",
       "      <td>Recurrence-Aware Long-Term Cognitive Network f...</td>\n",
       "    </tr>\n",
       "    <tr>\n",
       "      <th>...</th>\n",
       "      <td>...</td>\n",
       "    </tr>\n",
       "    <tr>\n",
       "      <th>41115</th>\n",
       "      <td>An experimental study of graph-based semi-supe...</td>\n",
       "    </tr>\n",
       "    <tr>\n",
       "      <th>41116</th>\n",
       "      <td>Bayesian Differential Privacy through Posterio...</td>\n",
       "    </tr>\n",
       "    <tr>\n",
       "      <th>41117</th>\n",
       "      <td>Mining Spatio-temporal Data on Industrializati...</td>\n",
       "    </tr>\n",
       "    <tr>\n",
       "      <th>41118</th>\n",
       "      <td>Wav2Letter: an End-to-End ConvNet-based Speech...</td>\n",
       "    </tr>\n",
       "    <tr>\n",
       "      <th>41119</th>\n",
       "      <td>Generalized Low Rank Models|||||.....ab: Princ...</td>\n",
       "    </tr>\n",
       "  </tbody>\n",
       "</table>\n",
       "<p>41120 rows × 1 columns</p>\n",
       "</div>"
      ],
      "text/plain": [
       "                                                Combined\n",
       "0      Multi-Level Attention Pooling for Graph Neural...\n",
       "1      Decision Forests vs. Deep Networks: Conceptual...\n",
       "2      Power up! Robust Graph Convolutional Network v...\n",
       "3      Releasing Graph Neural Networks with Different...\n",
       "4      Recurrence-Aware Long-Term Cognitive Network f...\n",
       "...                                                  ...\n",
       "41115  An experimental study of graph-based semi-supe...\n",
       "41116  Bayesian Differential Privacy through Posterio...\n",
       "41117  Mining Spatio-temporal Data on Industrializati...\n",
       "41118  Wav2Letter: an End-to-End ConvNet-based Speech...\n",
       "41119  Generalized Low Rank Models|||||.....ab: Princ...\n",
       "\n",
       "[41120 rows x 1 columns]"
      ]
     },
     "execution_count": 154,
     "metadata": {},
     "output_type": "execute_result"
    }
   ],
   "source": [
    "df3.drop_duplicates(inplace= True)\n",
    "df3.reset_index(drop= True,inplace = True)\n",
    "df3"
   ]
  },
  {
   "cell_type": "code",
   "execution_count": 155,
   "id": "a309fcf8",
   "metadata": {},
   "outputs": [],
   "source": [
    "from sklearn.feature_extraction.text import TfidfVectorizer\n",
    "vectorizer = TfidfVectorizer()\n",
    "\n",
    "\n",
    "tfidf_matrix = vectorizer.fit_transform(df2['titles'])"
   ]
  },
  {
   "cell_type": "code",
   "execution_count": 156,
   "id": "6dab4f59",
   "metadata": {},
   "outputs": [],
   "source": [
    "tfidf_matrix1 = vectorizer.fit_transform(df3['Combined'])"
   ]
  },
  {
   "cell_type": "code",
   "execution_count": 157,
   "id": "303586b9",
   "metadata": {},
   "outputs": [
    {
     "name": "stdout",
     "output_type": "stream",
     "text": [
      "  (0, 9711)\t0.5167419487941495\n",
      "  (0, 11075)\t0.2780482816652611\n",
      "  (0, 18956)\t0.14008843706931304\n",
      "  (0, 14359)\t0.24850469117018092\n",
      "  (0, 18104)\t0.3694024869901276\n",
      "  (0, 11367)\t0.1554634761537394\n",
      "  (0, 11374)\t0.16352884180168073\n",
      "  (0, 7396)\t0.3491022979804692\n",
      "  (0, 6632)\t0.09221572357192351\n",
      "  (0, 13056)\t0.3308388378192037\n",
      "  (0, 1207)\t0.19343024982533533\n",
      "  (0, 9515)\t0.2734907927056635\n",
      "  (0, 11013)\t0.18675069421839552\n",
      "  (1, 15746)\t0.34745167357072376\n",
      "  (1, 14962)\t0.24120789673592366\n",
      "  (1, 15861)\t0.25393960925665504\n",
      "  (1, 1157)\t0.24720740942278732\n",
      "  (1, 4714)\t0.343206375789626\n",
      "  (1, 5575)\t0.2645984013252402\n",
      "  (1, 791)\t0.10090893591271319\n",
      "  (1, 15671)\t0.343206375789626\n",
      "  (1, 3202)\t0.3607459616622506\n",
      "  (1, 4133)\t0.12064846945440444\n",
      "  (1, 18696)\t0.2993163893186078\n",
      "  (1, 6661)\t0.2864738028221272\n",
      "  :\t:\n",
      "  (56177, 5615)\t0.524754636713243\n",
      "  (56177, 17429)\t0.1595371310514644\n",
      "  (56177, 751)\t0.2053089472691146\n",
      "  (56177, 16934)\t0.2654962776772991\n",
      "  (56178, 5074)\t0.7217241083649074\n",
      "  (56178, 14198)\t0.3582199427394116\n",
      "  (56178, 9462)\t0.4306739231364836\n",
      "  (56178, 4133)\t0.3014890544037441\n",
      "  (56178, 18956)\t0.2727949890185276\n",
      "  (56179, 13827)\t0.5665585892210169\n",
      "  (56179, 7075)\t0.5502270020700623\n",
      "  (56179, 9811)\t0.4898815987162303\n",
      "  (56179, 10747)\t0.36915800196137294\n",
      "  (56180, 6131)\t0.3859890591714549\n",
      "  (56180, 16201)\t0.3823320986030932\n",
      "  (56180, 2638)\t0.44492273825907286\n",
      "  (56180, 17200)\t0.39211875514070843\n",
      "  (56180, 10220)\t0.33187017313144196\n",
      "  (56180, 10412)\t0.24215185016898821\n",
      "  (56180, 16518)\t0.24272988976516355\n",
      "  (56180, 5151)\t0.2604038625987034\n",
      "  (56180, 17261)\t0.16029620070028505\n",
      "  (56180, 11755)\t0.12369401960808958\n",
      "  (56180, 9462)\t0.09901832831822012\n",
      "  (56180, 6632)\t0.08257262403279848\n"
     ]
    }
   ],
   "source": [
    "print(tfidf_matrix)"
   ]
  },
  {
   "cell_type": "code",
   "execution_count": 158,
   "id": "69f95aec",
   "metadata": {},
   "outputs": [],
   "source": [
    "from sklearn.metrics.pairwise import cosine_similarity\n",
    "\n",
    "new_text = \"Attention is not all you need\"\n",
    "new_text_vector = vectorizer.transform([new_text])"
   ]
  },
  {
   "cell_type": "code",
   "execution_count": 159,
   "id": "a6a50ca4",
   "metadata": {},
   "outputs": [],
   "source": [
    "cosine_similarities = cosine_similarity(new_text_vector, tfidf_matrix1)"
   ]
  },
  {
   "cell_type": "code",
   "execution_count": 160,
   "id": "6608456e",
   "metadata": {},
   "outputs": [
    {
     "data": {
      "text/plain": [
       "array([[0.03188407, 0.00386253, 0.00606241, ..., 0.0246056 , 0.0426449 ,\n",
       "        0.01939232]])"
      ]
     },
     "execution_count": 160,
     "metadata": {},
     "output_type": "execute_result"
    }
   ],
   "source": [
    "cosine_similarities"
   ]
  },
  {
   "cell_type": "code",
   "execution_count": 161,
   "id": "2ae4bd6d",
   "metadata": {},
   "outputs": [
    {
     "data": {
      "text/plain": [
       "array([[0.03188407, 0.00386253, 0.00606241, ..., 0.0246056 , 0.0426449 ,\n",
       "        0.01939232]])"
      ]
     },
     "execution_count": 161,
     "metadata": {},
     "output_type": "execute_result"
    }
   ],
   "source": [
    "cosine_similarities"
   ]
  },
  {
   "cell_type": "code",
   "execution_count": 162,
   "id": "c283adde",
   "metadata": {},
   "outputs": [],
   "source": [
    "import copy\n",
    "cosine_simil = copy.deepcopy(cosine_similarities)"
   ]
  },
  {
   "cell_type": "code",
   "execution_count": 163,
   "id": "f4b806d3",
   "metadata": {},
   "outputs": [],
   "source": [
    "import numpy as np\n",
    "sorted1 = np.sort(cosine_similarities,axis=1)"
   ]
  },
  {
   "cell_type": "code",
   "execution_count": 164,
   "id": "2cfcab66",
   "metadata": {},
   "outputs": [
    {
     "data": {
      "text/plain": [
       "array([[0.        , 0.        , 0.        , ..., 0.2355061 , 0.23600192,\n",
       "        0.33442275]])"
      ]
     },
     "execution_count": 164,
     "metadata": {},
     "output_type": "execute_result"
    }
   ],
   "source": [
    "sorted1"
   ]
  },
  {
   "cell_type": "code",
   "execution_count": 165,
   "id": "a855c683",
   "metadata": {},
   "outputs": [
    {
     "name": "stdout",
     "output_type": "stream",
     "text": [
      "[[0.21636988 0.22603469 0.2355061  0.23600192 0.33442275]]\n"
     ]
    }
   ],
   "source": [
    "first_five = sorted1[:, -5:]\n",
    "print(first_five)"
   ]
  },
  {
   "cell_type": "code",
   "execution_count": 166,
   "id": "22ae3d8b",
   "metadata": {},
   "outputs": [
    {
     "data": {
      "text/plain": [
       "(1, 5)"
      ]
     },
     "execution_count": 166,
     "metadata": {},
     "output_type": "execute_result"
    }
   ],
   "source": [
    "first_five.shape"
   ]
  },
  {
   "cell_type": "code",
   "execution_count": 167,
   "id": "74f83a44",
   "metadata": {},
   "outputs": [],
   "source": [
    "indexes_max = []\n",
    "i = 0\n",
    "while i<5:\n",
    "    indexes_max.append(cosine_simil.argmax())\n",
    "    cosine_simil = np.delete(cosine_simil, cosine_simil.argmax())\n",
    "    i+=1"
   ]
  },
  {
   "cell_type": "code",
   "execution_count": 168,
   "id": "a17a39b6",
   "metadata": {},
   "outputs": [
    {
     "data": {
      "text/plain": [
       "[29391, 22282, 13207, 21710, 23749]"
      ]
     },
     "execution_count": 168,
     "metadata": {},
     "output_type": "execute_result"
    }
   ],
   "source": [
    "indexes_max"
   ]
  },
  {
   "cell_type": "code",
   "execution_count": 169,
   "id": "4342cfb6",
   "metadata": {},
   "outputs": [],
   "source": [
    "most_similar_text_5 = []\n",
    "for all1 in indexes_max:\n",
    "    most_similar_text_5.append(df3.loc[all1, 'Combined'])"
   ]
  },
  {
   "cell_type": "code",
   "execution_count": 170,
   "id": "e310f326",
   "metadata": {},
   "outputs": [],
   "source": [
    "most_similar_index = cosine_similarities.argmax()\n",
    "\n",
    "\n",
    "most_similar_text = df3.loc[most_similar_index, 'Combined']"
   ]
  },
  {
   "cell_type": "code",
   "execution_count": 171,
   "id": "55097720",
   "metadata": {},
   "outputs": [
    {
     "data": {
      "text/plain": [
       "29391"
      ]
     },
     "execution_count": 171,
     "metadata": {},
     "output_type": "execute_result"
    }
   ],
   "source": [
    "most_similar_index"
   ]
  },
  {
   "cell_type": "code",
   "execution_count": 172,
   "id": "3b2b8663",
   "metadata": {},
   "outputs": [
    {
     "data": {
      "text/plain": [
       "'One Point is All You Need: Directional Attention Point for Feature Learning|||||.....ab: We present a novel attention-based mechanism for learning enhanced point\\nfeatures for tasks such as point cloud classification and segmentation. Our key\\nmessage is that if the right attention point is selected, then \"one point is\\nall you need\" -- not a sequence as in a recurrent model and not a pre-selected\\nset as in all prior works. Also, where the attention point is should be\\nlearned, from data and specific to the task at hand. Our mechanism is\\ncharacterized by a new and simple convolution, which combines the feature at an\\ninput point with the feature at its associated attention point. We call such a\\npoint a directional attention point (DAP), since it is found by adding to the\\noriginal point an offset vector that is learned by maximizing the task\\nperformance in training. We show that our attention mechanism can be easily\\nincorporated into state-of-the-art point cloud classification and segmentation\\nnetworks. Extensive experiments on common benchmarks such as ModelNet40,\\nShapeNetPart, and S3DIS demonstrate that our DAP-enabled networks consistently\\noutperform the respective original networks, as well as all other competitive\\nalternatives, including those employing pre-selected sets of attention points.'"
      ]
     },
     "execution_count": 172,
     "metadata": {},
     "output_type": "execute_result"
    }
   ],
   "source": [
    "most_similar_text"
   ]
  },
  {
   "cell_type": "code",
   "execution_count": 173,
   "id": "e337996f",
   "metadata": {},
   "outputs": [
    {
     "name": "stdout",
     "output_type": "stream",
     "text": [
      "One Point is All You Need: Directional Attention Point for Feature Learning|||||.....ab: We present a novel attention-based mechanism for learning enhanced point\n",
      "features for tasks such as point cloud classification and segmentation. Our key\n",
      "message is that if the right attention point is selected, then \"one point is\n",
      "all you need\" -- not a sequence as in a recurrent model and not a pre-selected\n",
      "set as in all prior works. Also, where the attention point is should be\n",
      "learned, from data and specific to the task at hand. Our mechanism is\n",
      "characterized by a new and simple convolution, which combines the feature at an\n",
      "input point with the feature at its associated attention point. We call such a\n",
      "point a directional attention point (DAP), since it is found by adding to the\n",
      "original point an offset vector that is learned by maximizing the task\n",
      "performance in training. We show that our attention mechanism can be easily\n",
      "incorporated into state-of-the-art point cloud classification and segmentation\n",
      "networks. Extensive experiments on common benchmarks such as ModelNet40,\n",
      "ShapeNetPart, and S3DIS demonstrate that our DAP-enabled networks consistently\n",
      "outperform the respective original networks, as well as all other competitive\n",
      "alternatives, including those employing pre-selected sets of attention points. \n",
      "!.........................\n",
      "\n",
      "Attention is Not All You Need: Pure Attention Loses Rank Doubly Exponentially with Depth|||||.....ab: Attention-based architectures have become ubiquitous in machine learning, yet\n",
      "our understanding of the reasons for their effectiveness remains limited. This\n",
      "work proposes a new way to understand self-attention networks: we show that\n",
      "their output can be decomposed into a sum of smaller terms, each involving the\n",
      "operation of a sequence of attention heads across layers. Using this\n",
      "decomposition, we prove that self-attention possesses a strong inductive bias\n",
      "towards \"token uniformity\". Specifically, without skip connections or\n",
      "multi-layer perceptrons (MLPs), the output converges doubly exponentially to a\n",
      "rank-1 matrix. On the other hand, skip connections and MLPs stop the output\n",
      "from degeneration. Our experiments verify the identified convergence phenomena\n",
      "on different variants of standard transformer architectures. \n",
      "!.........................\n",
      "\n",
      "All the attention you need: Global-local, spatial-channel attention for image retrieval|||||.....ab: We address representation learning for large-scale instance-level image\n",
      "retrieval. Apart from backbone, training pipelines and loss functions, popular\n",
      "approaches have focused on different spatial pooling and attention mechanisms,\n",
      "which are at the core of learning a powerful global image representation. There\n",
      "are different forms of attention according to the interaction of elements of\n",
      "the feature tensor (local and global) and the dimensions where it is applied\n",
      "(spatial and channel). Unfortunately, each study addresses only one or two\n",
      "forms of attention and applies it to different problems like classification,\n",
      "detection or retrieval.\n",
      "  We present global-local attention module (GLAM), which is attached at the end\n",
      "of a backbone network and incorporates all four forms of attention: local and\n",
      "global, spatial and channel. We obtain a new feature tensor and, by spatial\n",
      "pooling, we learn a powerful embedding for image retrieval. Focusing on global\n",
      "descriptors, we provide empirical evidence of the interaction of all forms of\n",
      "attention and improve the state of the art on standard benchmarks. \n",
      "!.........................\n",
      "\n",
      "Robust Reference-based Super-Resolution via C2-Matching|||||.....ab: Reference-based Super-Resolution (Ref-SR) has recently emerged as a promising\n",
      "paradigm to enhance a low-resolution (LR) input image by introducing an\n",
      "additional high-resolution (HR) reference image. Existing Ref-SR methods mostly\n",
      "rely on implicit correspondence matching to borrow HR textures from reference\n",
      "images to compensate for the information loss in input images. However,\n",
      "performing local transfer is difficult because of two gaps between input and\n",
      "reference images: the transformation gap (e.g. scale and rotation) and the\n",
      "resolution gap (e.g. HR and LR). To tackle these challenges, we propose\n",
      "C2-Matching in this work, which produces explicit robust matching crossing\n",
      "transformation and resolution. 1) For the transformation gap, we propose a\n",
      "contrastive correspondence network, which learns transformation-robust\n",
      "correspondences using augmented views of the input image. 2) For the resolution\n",
      "gap, we adopt a teacher-student correlation distillation, which distills\n",
      "knowledge from the easier HR-HR matching to guide the more ambiguous LR-HR\n",
      "matching. 3) Finally, we design a dynamic aggregation module to address the\n",
      "potential misalignment issue. In addition, to faithfully evaluate the\n",
      "performance of Ref-SR under a realistic setting, we contribute the\n",
      "Webly-Referenced SR (WR-SR) dataset, mimicking the practical usage scenario.\n",
      "Extensive experiments demonstrate that our proposed C2-Matching significantly\n",
      "outperforms state of the arts by over 1dB on the standard CUFED5 benchmark.\n",
      "Notably, it also shows great generalizability on WR-SR dataset as well as\n",
      "robustness across large scale and rotation transformations. \n",
      "!.........................\n",
      "\n",
      "Semi-Supervised Learning with Normalizing Flows|||||.....ab: Normalizing flows transform a latent distribution through an invertible\n",
      "neural network for a flexible and pleasingly simple approach to generative\n",
      "modelling, while preserving an exact likelihood. We propose FlowGMM, an\n",
      "end-to-end approach to generative semi supervised learning with normalizing\n",
      "flows, using a latent Gaussian mixture model. FlowGMM is distinct in its\n",
      "simplicity, unified treatment of labelled and unlabelled data with an exact\n",
      "likelihood, interpretability, and broad applicability beyond image data. We\n",
      "show promising results on a wide range of applications, including AG-News and\n",
      "Yahoo Answers text data, tabular data, and semi-supervised image\n",
      "classification. We also show that FlowGMM can discover interpretable structure,\n",
      "provide real-time optimization-free feature visualizations, and specify well\n",
      "calibrated predictive distributions. \n",
      "!.........................\n",
      "\n"
     ]
    }
   ],
   "source": [
    "for item in most_similar_text_5:\n",
    "    print(item,'\\n!.........................\\n')"
   ]
  },
  {
   "cell_type": "code",
   "execution_count": null,
   "id": "1fe4848f",
   "metadata": {},
   "outputs": [],
   "source": []
  },
  {
   "cell_type": "code",
   "execution_count": null,
   "id": "03dde172",
   "metadata": {},
   "outputs": [],
   "source": []
  }
 ],
 "metadata": {
  "kernelspec": {
   "display_name": "Python 3 (ipykernel)",
   "language": "python",
   "name": "python3"
  },
  "language_info": {
   "codemirror_mode": {
    "name": "ipython",
    "version": 3
   },
   "file_extension": ".py",
   "mimetype": "text/x-python",
   "name": "python",
   "nbconvert_exporter": "python",
   "pygments_lexer": "ipython3",
   "version": "3.10.7"
  }
 },
 "nbformat": 4,
 "nbformat_minor": 5
}
