{
 "cells": [
  {
   "cell_type": "code",
   "execution_count": 234,
   "id": "1881a474",
   "metadata": {},
   "outputs": [],
   "source": [
    "import pandas as pd"
   ]
  },
  {
   "cell_type": "code",
   "execution_count": 235,
   "id": "3b87aac3",
   "metadata": {},
   "outputs": [],
   "source": [
    "df1 = pd.read_csv('archive (5)/arxiv_data.csv')\n",
    "df2 = pd.read_csv('archive (5)/arxiv_data_210930-054931.csv')"
   ]
  },
  {
   "cell_type": "code",
   "execution_count": 236,
   "id": "55dc8db2",
   "metadata": {},
   "outputs": [
    {
     "data": {
      "text/html": [
       "<div>\n",
       "<style scoped>\n",
       "    .dataframe tbody tr th:only-of-type {\n",
       "        vertical-align: middle;\n",
       "    }\n",
       "\n",
       "    .dataframe tbody tr th {\n",
       "        vertical-align: top;\n",
       "    }\n",
       "\n",
       "    .dataframe thead th {\n",
       "        text-align: right;\n",
       "    }\n",
       "</style>\n",
       "<table border=\"1\" class=\"dataframe\">\n",
       "  <thead>\n",
       "    <tr style=\"text-align: right;\">\n",
       "      <th></th>\n",
       "      <th>titles</th>\n",
       "      <th>summaries</th>\n",
       "      <th>terms</th>\n",
       "    </tr>\n",
       "  </thead>\n",
       "  <tbody>\n",
       "    <tr>\n",
       "      <th>0</th>\n",
       "      <td>Survey on Semantic Stereo Matching / Semantic ...</td>\n",
       "      <td>Stereo matching is one of the widely used tech...</td>\n",
       "      <td>['cs.CV', 'cs.LG']</td>\n",
       "    </tr>\n",
       "    <tr>\n",
       "      <th>1</th>\n",
       "      <td>FUTURE-AI: Guiding Principles and Consensus Re...</td>\n",
       "      <td>The recent advancements in artificial intellig...</td>\n",
       "      <td>['cs.CV', 'cs.AI', 'cs.LG']</td>\n",
       "    </tr>\n",
       "    <tr>\n",
       "      <th>2</th>\n",
       "      <td>Enforcing Mutual Consistency of Hard Regions f...</td>\n",
       "      <td>In this paper, we proposed a novel mutual cons...</td>\n",
       "      <td>['cs.CV', 'cs.AI']</td>\n",
       "    </tr>\n",
       "    <tr>\n",
       "      <th>3</th>\n",
       "      <td>Parameter Decoupling Strategy for Semi-supervi...</td>\n",
       "      <td>Consistency training has proven to be an advan...</td>\n",
       "      <td>['cs.CV']</td>\n",
       "    </tr>\n",
       "    <tr>\n",
       "      <th>4</th>\n",
       "      <td>Background-Foreground Segmentation for Interio...</td>\n",
       "      <td>To ensure safety in automated driving, the cor...</td>\n",
       "      <td>['cs.CV', 'cs.LG']</td>\n",
       "    </tr>\n",
       "    <tr>\n",
       "      <th>...</th>\n",
       "      <td>...</td>\n",
       "      <td>...</td>\n",
       "      <td>...</td>\n",
       "    </tr>\n",
       "    <tr>\n",
       "      <th>51769</th>\n",
       "      <td>Hierarchically-coupled hidden Markov models fo...</td>\n",
       "      <td>We address the problem of analyzing sets of no...</td>\n",
       "      <td>['stat.ML', 'physics.bio-ph', 'q-bio.QM']</td>\n",
       "    </tr>\n",
       "    <tr>\n",
       "      <th>51770</th>\n",
       "      <td>Blinking Molecule Tracking</td>\n",
       "      <td>We discuss a method for tracking individual mo...</td>\n",
       "      <td>['cs.CV', 'cs.DM']</td>\n",
       "    </tr>\n",
       "    <tr>\n",
       "      <th>51771</th>\n",
       "      <td>Towards a Mathematical Foundation of Immunolog...</td>\n",
       "      <td>We attempt to set a mathematical foundation of...</td>\n",
       "      <td>['stat.ML', 'cs.LG', 'q-bio.GN']</td>\n",
       "    </tr>\n",
       "    <tr>\n",
       "      <th>51772</th>\n",
       "      <td>A Semi-Automatic Graph-Based Approach for Dete...</td>\n",
       "      <td>Diffusion Tensor Imaging (DTI) allows estimati...</td>\n",
       "      <td>['cs.CV']</td>\n",
       "    </tr>\n",
       "    <tr>\n",
       "      <th>51773</th>\n",
       "      <td>SparseCodePicking: feature extraction in mass ...</td>\n",
       "      <td>Mass spectrometry (MS) is an important techniq...</td>\n",
       "      <td>['stat.ML', 'physics.med-ph', 'stat.AP', 'stat...</td>\n",
       "    </tr>\n",
       "  </tbody>\n",
       "</table>\n",
       "<p>51774 rows × 3 columns</p>\n",
       "</div>"
      ],
      "text/plain": [
       "                                                  titles  \\\n",
       "0      Survey on Semantic Stereo Matching / Semantic ...   \n",
       "1      FUTURE-AI: Guiding Principles and Consensus Re...   \n",
       "2      Enforcing Mutual Consistency of Hard Regions f...   \n",
       "3      Parameter Decoupling Strategy for Semi-supervi...   \n",
       "4      Background-Foreground Segmentation for Interio...   \n",
       "...                                                  ...   \n",
       "51769  Hierarchically-coupled hidden Markov models fo...   \n",
       "51770                         Blinking Molecule Tracking   \n",
       "51771  Towards a Mathematical Foundation of Immunolog...   \n",
       "51772  A Semi-Automatic Graph-Based Approach for Dete...   \n",
       "51773  SparseCodePicking: feature extraction in mass ...   \n",
       "\n",
       "                                               summaries  \\\n",
       "0      Stereo matching is one of the widely used tech...   \n",
       "1      The recent advancements in artificial intellig...   \n",
       "2      In this paper, we proposed a novel mutual cons...   \n",
       "3      Consistency training has proven to be an advan...   \n",
       "4      To ensure safety in automated driving, the cor...   \n",
       "...                                                  ...   \n",
       "51769  We address the problem of analyzing sets of no...   \n",
       "51770  We discuss a method for tracking individual mo...   \n",
       "51771  We attempt to set a mathematical foundation of...   \n",
       "51772  Diffusion Tensor Imaging (DTI) allows estimati...   \n",
       "51773  Mass spectrometry (MS) is an important techniq...   \n",
       "\n",
       "                                                   terms  \n",
       "0                                     ['cs.CV', 'cs.LG']  \n",
       "1                            ['cs.CV', 'cs.AI', 'cs.LG']  \n",
       "2                                     ['cs.CV', 'cs.AI']  \n",
       "3                                              ['cs.CV']  \n",
       "4                                     ['cs.CV', 'cs.LG']  \n",
       "...                                                  ...  \n",
       "51769          ['stat.ML', 'physics.bio-ph', 'q-bio.QM']  \n",
       "51770                                 ['cs.CV', 'cs.DM']  \n",
       "51771                   ['stat.ML', 'cs.LG', 'q-bio.GN']  \n",
       "51772                                          ['cs.CV']  \n",
       "51773  ['stat.ML', 'physics.med-ph', 'stat.AP', 'stat...  \n",
       "\n",
       "[51774 rows x 3 columns]"
      ]
     },
     "execution_count": 236,
     "metadata": {},
     "output_type": "execute_result"
    }
   ],
   "source": [
    "df1"
   ]
  },
  {
   "cell_type": "code",
   "execution_count": 237,
   "id": "5566907c",
   "metadata": {},
   "outputs": [
    {
     "data": {
      "text/html": [
       "<div>\n",
       "<style scoped>\n",
       "    .dataframe tbody tr th:only-of-type {\n",
       "        vertical-align: middle;\n",
       "    }\n",
       "\n",
       "    .dataframe tbody tr th {\n",
       "        vertical-align: top;\n",
       "    }\n",
       "\n",
       "    .dataframe thead th {\n",
       "        text-align: right;\n",
       "    }\n",
       "</style>\n",
       "<table border=\"1\" class=\"dataframe\">\n",
       "  <thead>\n",
       "    <tr style=\"text-align: right;\">\n",
       "      <th></th>\n",
       "      <th>terms</th>\n",
       "      <th>titles</th>\n",
       "      <th>abstracts</th>\n",
       "    </tr>\n",
       "  </thead>\n",
       "  <tbody>\n",
       "    <tr>\n",
       "      <th>0</th>\n",
       "      <td>['cs.LG']</td>\n",
       "      <td>Multi-Level Attention Pooling for Graph Neural...</td>\n",
       "      <td>Graph neural networks (GNNs) have been widely ...</td>\n",
       "    </tr>\n",
       "    <tr>\n",
       "      <th>1</th>\n",
       "      <td>['cs.LG', 'cs.AI']</td>\n",
       "      <td>Decision Forests vs. Deep Networks: Conceptual...</td>\n",
       "      <td>Deep networks and decision forests (such as ra...</td>\n",
       "    </tr>\n",
       "    <tr>\n",
       "      <th>2</th>\n",
       "      <td>['cs.LG', 'cs.CR', 'stat.ML']</td>\n",
       "      <td>Power up! Robust Graph Convolutional Network v...</td>\n",
       "      <td>Graph convolutional networks (GCNs) are powerf...</td>\n",
       "    </tr>\n",
       "    <tr>\n",
       "      <th>3</th>\n",
       "      <td>['cs.LG', 'cs.CR']</td>\n",
       "      <td>Releasing Graph Neural Networks with Different...</td>\n",
       "      <td>With the increasing popularity of Graph Neural...</td>\n",
       "    </tr>\n",
       "    <tr>\n",
       "      <th>4</th>\n",
       "      <td>['cs.LG']</td>\n",
       "      <td>Recurrence-Aware Long-Term Cognitive Network f...</td>\n",
       "      <td>Machine learning solutions for pattern classif...</td>\n",
       "    </tr>\n",
       "    <tr>\n",
       "      <th>...</th>\n",
       "      <td>...</td>\n",
       "      <td>...</td>\n",
       "      <td>...</td>\n",
       "    </tr>\n",
       "    <tr>\n",
       "      <th>56176</th>\n",
       "      <td>['cs.CV', 'cs.IR']</td>\n",
       "      <td>Mining Spatio-temporal Data on Industrializati...</td>\n",
       "      <td>Despite the growing availability of big data i...</td>\n",
       "    </tr>\n",
       "    <tr>\n",
       "      <th>56177</th>\n",
       "      <td>['cs.LG', 'cs.AI', 'cs.CL', 'I.2.6; I.2.7']</td>\n",
       "      <td>Wav2Letter: an End-to-End ConvNet-based Speech...</td>\n",
       "      <td>This paper presents a simple end-to-end model ...</td>\n",
       "    </tr>\n",
       "    <tr>\n",
       "      <th>56178</th>\n",
       "      <td>['cs.LG']</td>\n",
       "      <td>Deep Reinforcement Learning with Double Q-lear...</td>\n",
       "      <td>The popular Q-learning algorithm is known to o...</td>\n",
       "    </tr>\n",
       "    <tr>\n",
       "      <th>56179</th>\n",
       "      <td>['stat.ML', 'cs.LG', 'math.OC']</td>\n",
       "      <td>Generalized Low Rank Models</td>\n",
       "      <td>Principal components analysis (PCA) is a well-...</td>\n",
       "    </tr>\n",
       "    <tr>\n",
       "      <th>56180</th>\n",
       "      <td>['cs.LG', 'cs.AI', 'stat.ML']</td>\n",
       "      <td>Chi-square Tests Driven Method for Learning th...</td>\n",
       "      <td>SDYNA is a general framework designed to addre...</td>\n",
       "    </tr>\n",
       "  </tbody>\n",
       "</table>\n",
       "<p>56181 rows × 3 columns</p>\n",
       "</div>"
      ],
      "text/plain": [
       "                                             terms  \\\n",
       "0                                        ['cs.LG']   \n",
       "1                               ['cs.LG', 'cs.AI']   \n",
       "2                    ['cs.LG', 'cs.CR', 'stat.ML']   \n",
       "3                               ['cs.LG', 'cs.CR']   \n",
       "4                                        ['cs.LG']   \n",
       "...                                            ...   \n",
       "56176                           ['cs.CV', 'cs.IR']   \n",
       "56177  ['cs.LG', 'cs.AI', 'cs.CL', 'I.2.6; I.2.7']   \n",
       "56178                                    ['cs.LG']   \n",
       "56179              ['stat.ML', 'cs.LG', 'math.OC']   \n",
       "56180                ['cs.LG', 'cs.AI', 'stat.ML']   \n",
       "\n",
       "                                                  titles  \\\n",
       "0      Multi-Level Attention Pooling for Graph Neural...   \n",
       "1      Decision Forests vs. Deep Networks: Conceptual...   \n",
       "2      Power up! Robust Graph Convolutional Network v...   \n",
       "3      Releasing Graph Neural Networks with Different...   \n",
       "4      Recurrence-Aware Long-Term Cognitive Network f...   \n",
       "...                                                  ...   \n",
       "56176  Mining Spatio-temporal Data on Industrializati...   \n",
       "56177  Wav2Letter: an End-to-End ConvNet-based Speech...   \n",
       "56178  Deep Reinforcement Learning with Double Q-lear...   \n",
       "56179                        Generalized Low Rank Models   \n",
       "56180  Chi-square Tests Driven Method for Learning th...   \n",
       "\n",
       "                                               abstracts  \n",
       "0      Graph neural networks (GNNs) have been widely ...  \n",
       "1      Deep networks and decision forests (such as ra...  \n",
       "2      Graph convolutional networks (GCNs) are powerf...  \n",
       "3      With the increasing popularity of Graph Neural...  \n",
       "4      Machine learning solutions for pattern classif...  \n",
       "...                                                  ...  \n",
       "56176  Despite the growing availability of big data i...  \n",
       "56177  This paper presents a simple end-to-end model ...  \n",
       "56178  The popular Q-learning algorithm is known to o...  \n",
       "56179  Principal components analysis (PCA) is a well-...  \n",
       "56180  SDYNA is a general framework designed to addre...  \n",
       "\n",
       "[56181 rows x 3 columns]"
      ]
     },
     "execution_count": 237,
     "metadata": {},
     "output_type": "execute_result"
    }
   ],
   "source": [
    "df2"
   ]
  },
  {
   "cell_type": "code",
   "execution_count": 238,
   "id": "ea16b538",
   "metadata": {},
   "outputs": [
    {
     "data": {
      "text/html": [
       "<div>\n",
       "<style scoped>\n",
       "    .dataframe tbody tr th:only-of-type {\n",
       "        vertical-align: middle;\n",
       "    }\n",
       "\n",
       "    .dataframe tbody tr th {\n",
       "        vertical-align: top;\n",
       "    }\n",
       "\n",
       "    .dataframe thead th {\n",
       "        text-align: right;\n",
       "    }\n",
       "</style>\n",
       "<table border=\"1\" class=\"dataframe\">\n",
       "  <thead>\n",
       "    <tr style=\"text-align: right;\">\n",
       "      <th></th>\n",
       "      <th>terms</th>\n",
       "      <th>titles</th>\n",
       "      <th>abstracts</th>\n",
       "      <th>Combined</th>\n",
       "    </tr>\n",
       "  </thead>\n",
       "  <tbody>\n",
       "    <tr>\n",
       "      <th>0</th>\n",
       "      <td>['cs.LG']</td>\n",
       "      <td>Multi-Level Attention Pooling for Graph Neural...</td>\n",
       "      <td>Graph neural networks (GNNs) have been widely ...</td>\n",
       "      <td>Multi-Level Attention Pooling for Graph Neural...</td>\n",
       "    </tr>\n",
       "    <tr>\n",
       "      <th>1</th>\n",
       "      <td>['cs.LG', 'cs.AI']</td>\n",
       "      <td>Decision Forests vs. Deep Networks: Conceptual...</td>\n",
       "      <td>Deep networks and decision forests (such as ra...</td>\n",
       "      <td>Decision Forests vs. Deep Networks: Conceptual...</td>\n",
       "    </tr>\n",
       "    <tr>\n",
       "      <th>2</th>\n",
       "      <td>['cs.LG', 'cs.CR', 'stat.ML']</td>\n",
       "      <td>Power up! Robust Graph Convolutional Network v...</td>\n",
       "      <td>Graph convolutional networks (GCNs) are powerf...</td>\n",
       "      <td>Power up! Robust Graph Convolutional Network v...</td>\n",
       "    </tr>\n",
       "    <tr>\n",
       "      <th>3</th>\n",
       "      <td>['cs.LG', 'cs.CR']</td>\n",
       "      <td>Releasing Graph Neural Networks with Different...</td>\n",
       "      <td>With the increasing popularity of Graph Neural...</td>\n",
       "      <td>Releasing Graph Neural Networks with Different...</td>\n",
       "    </tr>\n",
       "    <tr>\n",
       "      <th>4</th>\n",
       "      <td>['cs.LG']</td>\n",
       "      <td>Recurrence-Aware Long-Term Cognitive Network f...</td>\n",
       "      <td>Machine learning solutions for pattern classif...</td>\n",
       "      <td>Recurrence-Aware Long-Term Cognitive Network f...</td>\n",
       "    </tr>\n",
       "    <tr>\n",
       "      <th>...</th>\n",
       "      <td>...</td>\n",
       "      <td>...</td>\n",
       "      <td>...</td>\n",
       "      <td>...</td>\n",
       "    </tr>\n",
       "    <tr>\n",
       "      <th>56176</th>\n",
       "      <td>['cs.CV', 'cs.IR']</td>\n",
       "      <td>Mining Spatio-temporal Data on Industrializati...</td>\n",
       "      <td>Despite the growing availability of big data i...</td>\n",
       "      <td>Mining Spatio-temporal Data on Industrializati...</td>\n",
       "    </tr>\n",
       "    <tr>\n",
       "      <th>56177</th>\n",
       "      <td>['cs.LG', 'cs.AI', 'cs.CL', 'I.2.6; I.2.7']</td>\n",
       "      <td>Wav2Letter: an End-to-End ConvNet-based Speech...</td>\n",
       "      <td>This paper presents a simple end-to-end model ...</td>\n",
       "      <td>Wav2Letter: an End-to-End ConvNet-based Speech...</td>\n",
       "    </tr>\n",
       "    <tr>\n",
       "      <th>56178</th>\n",
       "      <td>['cs.LG']</td>\n",
       "      <td>Deep Reinforcement Learning with Double Q-lear...</td>\n",
       "      <td>The popular Q-learning algorithm is known to o...</td>\n",
       "      <td>Deep Reinforcement Learning with Double Q-lear...</td>\n",
       "    </tr>\n",
       "    <tr>\n",
       "      <th>56179</th>\n",
       "      <td>['stat.ML', 'cs.LG', 'math.OC']</td>\n",
       "      <td>Generalized Low Rank Models</td>\n",
       "      <td>Principal components analysis (PCA) is a well-...</td>\n",
       "      <td>Generalized Low Rank Models|||||.....ab: Princ...</td>\n",
       "    </tr>\n",
       "    <tr>\n",
       "      <th>56180</th>\n",
       "      <td>['cs.LG', 'cs.AI', 'stat.ML']</td>\n",
       "      <td>Chi-square Tests Driven Method for Learning th...</td>\n",
       "      <td>SDYNA is a general framework designed to addre...</td>\n",
       "      <td>Chi-square Tests Driven Method for Learning th...</td>\n",
       "    </tr>\n",
       "  </tbody>\n",
       "</table>\n",
       "<p>56181 rows × 4 columns</p>\n",
       "</div>"
      ],
      "text/plain": [
       "                                             terms  \\\n",
       "0                                        ['cs.LG']   \n",
       "1                               ['cs.LG', 'cs.AI']   \n",
       "2                    ['cs.LG', 'cs.CR', 'stat.ML']   \n",
       "3                               ['cs.LG', 'cs.CR']   \n",
       "4                                        ['cs.LG']   \n",
       "...                                            ...   \n",
       "56176                           ['cs.CV', 'cs.IR']   \n",
       "56177  ['cs.LG', 'cs.AI', 'cs.CL', 'I.2.6; I.2.7']   \n",
       "56178                                    ['cs.LG']   \n",
       "56179              ['stat.ML', 'cs.LG', 'math.OC']   \n",
       "56180                ['cs.LG', 'cs.AI', 'stat.ML']   \n",
       "\n",
       "                                                  titles  \\\n",
       "0      Multi-Level Attention Pooling for Graph Neural...   \n",
       "1      Decision Forests vs. Deep Networks: Conceptual...   \n",
       "2      Power up! Robust Graph Convolutional Network v...   \n",
       "3      Releasing Graph Neural Networks with Different...   \n",
       "4      Recurrence-Aware Long-Term Cognitive Network f...   \n",
       "...                                                  ...   \n",
       "56176  Mining Spatio-temporal Data on Industrializati...   \n",
       "56177  Wav2Letter: an End-to-End ConvNet-based Speech...   \n",
       "56178  Deep Reinforcement Learning with Double Q-lear...   \n",
       "56179                        Generalized Low Rank Models   \n",
       "56180  Chi-square Tests Driven Method for Learning th...   \n",
       "\n",
       "                                               abstracts  \\\n",
       "0      Graph neural networks (GNNs) have been widely ...   \n",
       "1      Deep networks and decision forests (such as ra...   \n",
       "2      Graph convolutional networks (GCNs) are powerf...   \n",
       "3      With the increasing popularity of Graph Neural...   \n",
       "4      Machine learning solutions for pattern classif...   \n",
       "...                                                  ...   \n",
       "56176  Despite the growing availability of big data i...   \n",
       "56177  This paper presents a simple end-to-end model ...   \n",
       "56178  The popular Q-learning algorithm is known to o...   \n",
       "56179  Principal components analysis (PCA) is a well-...   \n",
       "56180  SDYNA is a general framework designed to addre...   \n",
       "\n",
       "                                                Combined  \n",
       "0      Multi-Level Attention Pooling for Graph Neural...  \n",
       "1      Decision Forests vs. Deep Networks: Conceptual...  \n",
       "2      Power up! Robust Graph Convolutional Network v...  \n",
       "3      Releasing Graph Neural Networks with Different...  \n",
       "4      Recurrence-Aware Long-Term Cognitive Network f...  \n",
       "...                                                  ...  \n",
       "56176  Mining Spatio-temporal Data on Industrializati...  \n",
       "56177  Wav2Letter: an End-to-End ConvNet-based Speech...  \n",
       "56178  Deep Reinforcement Learning with Double Q-lear...  \n",
       "56179  Generalized Low Rank Models|||||.....ab: Princ...  \n",
       "56180  Chi-square Tests Driven Method for Learning th...  \n",
       "\n",
       "[56181 rows x 4 columns]"
      ]
     },
     "execution_count": 238,
     "metadata": {},
     "output_type": "execute_result"
    }
   ],
   "source": [
    "df2['Combined'] = df2['titles'].astype(str) + '|||||.....ab: ' + df2['abstracts'].astype(str)\n",
    "df2"
   ]
  },
  {
   "cell_type": "code",
   "execution_count": 239,
   "id": "b6a35a46",
   "metadata": {},
   "outputs": [
    {
     "data": {
      "text/html": [
       "<div>\n",
       "<style scoped>\n",
       "    .dataframe tbody tr th:only-of-type {\n",
       "        vertical-align: middle;\n",
       "    }\n",
       "\n",
       "    .dataframe tbody tr th {\n",
       "        vertical-align: top;\n",
       "    }\n",
       "\n",
       "    .dataframe thead th {\n",
       "        text-align: right;\n",
       "    }\n",
       "</style>\n",
       "<table border=\"1\" class=\"dataframe\">\n",
       "  <thead>\n",
       "    <tr style=\"text-align: right;\">\n",
       "      <th></th>\n",
       "      <th>Combined</th>\n",
       "    </tr>\n",
       "  </thead>\n",
       "  <tbody>\n",
       "    <tr>\n",
       "      <th>0</th>\n",
       "      <td>Multi-Level Attention Pooling for Graph Neural...</td>\n",
       "    </tr>\n",
       "    <tr>\n",
       "      <th>1</th>\n",
       "      <td>Decision Forests vs. Deep Networks: Conceptual...</td>\n",
       "    </tr>\n",
       "    <tr>\n",
       "      <th>2</th>\n",
       "      <td>Power up! Robust Graph Convolutional Network v...</td>\n",
       "    </tr>\n",
       "    <tr>\n",
       "      <th>3</th>\n",
       "      <td>Releasing Graph Neural Networks with Different...</td>\n",
       "    </tr>\n",
       "    <tr>\n",
       "      <th>4</th>\n",
       "      <td>Recurrence-Aware Long-Term Cognitive Network f...</td>\n",
       "    </tr>\n",
       "    <tr>\n",
       "      <th>...</th>\n",
       "      <td>...</td>\n",
       "    </tr>\n",
       "    <tr>\n",
       "      <th>56176</th>\n",
       "      <td>Mining Spatio-temporal Data on Industrializati...</td>\n",
       "    </tr>\n",
       "    <tr>\n",
       "      <th>56177</th>\n",
       "      <td>Wav2Letter: an End-to-End ConvNet-based Speech...</td>\n",
       "    </tr>\n",
       "    <tr>\n",
       "      <th>56178</th>\n",
       "      <td>Deep Reinforcement Learning with Double Q-lear...</td>\n",
       "    </tr>\n",
       "    <tr>\n",
       "      <th>56179</th>\n",
       "      <td>Generalized Low Rank Models|||||.....ab: Princ...</td>\n",
       "    </tr>\n",
       "    <tr>\n",
       "      <th>56180</th>\n",
       "      <td>Chi-square Tests Driven Method for Learning th...</td>\n",
       "    </tr>\n",
       "  </tbody>\n",
       "</table>\n",
       "<p>56181 rows × 1 columns</p>\n",
       "</div>"
      ],
      "text/plain": [
       "                                                Combined\n",
       "0      Multi-Level Attention Pooling for Graph Neural...\n",
       "1      Decision Forests vs. Deep Networks: Conceptual...\n",
       "2      Power up! Robust Graph Convolutional Network v...\n",
       "3      Releasing Graph Neural Networks with Different...\n",
       "4      Recurrence-Aware Long-Term Cognitive Network f...\n",
       "...                                                  ...\n",
       "56176  Mining Spatio-temporal Data on Industrializati...\n",
       "56177  Wav2Letter: an End-to-End ConvNet-based Speech...\n",
       "56178  Deep Reinforcement Learning with Double Q-lear...\n",
       "56179  Generalized Low Rank Models|||||.....ab: Princ...\n",
       "56180  Chi-square Tests Driven Method for Learning th...\n",
       "\n",
       "[56181 rows x 1 columns]"
      ]
     },
     "execution_count": 239,
     "metadata": {},
     "output_type": "execute_result"
    }
   ],
   "source": [
    "df3 = df2.drop(columns = [\"terms\",\"abstracts\",\"titles\"])\n",
    "df3"
   ]
  },
  {
   "cell_type": "code",
   "execution_count": 240,
   "id": "b7925f64",
   "metadata": {},
   "outputs": [
    {
     "data": {
      "text/plain": [
       "41120"
      ]
     },
     "execution_count": 240,
     "metadata": {},
     "output_type": "execute_result"
    }
   ],
   "source": [
    "df3['Combined'].nunique()"
   ]
  },
  {
   "cell_type": "code",
   "execution_count": 241,
   "id": "6aef57d5",
   "metadata": {},
   "outputs": [
    {
     "data": {
      "text/html": [
       "<div>\n",
       "<style scoped>\n",
       "    .dataframe tbody tr th:only-of-type {\n",
       "        vertical-align: middle;\n",
       "    }\n",
       "\n",
       "    .dataframe tbody tr th {\n",
       "        vertical-align: top;\n",
       "    }\n",
       "\n",
       "    .dataframe thead th {\n",
       "        text-align: right;\n",
       "    }\n",
       "</style>\n",
       "<table border=\"1\" class=\"dataframe\">\n",
       "  <thead>\n",
       "    <tr style=\"text-align: right;\">\n",
       "      <th></th>\n",
       "      <th>Combined</th>\n",
       "    </tr>\n",
       "  </thead>\n",
       "  <tbody>\n",
       "    <tr>\n",
       "      <th>0</th>\n",
       "      <td>Multi-Level Attention Pooling for Graph Neural...</td>\n",
       "    </tr>\n",
       "    <tr>\n",
       "      <th>1</th>\n",
       "      <td>Decision Forests vs. Deep Networks: Conceptual...</td>\n",
       "    </tr>\n",
       "    <tr>\n",
       "      <th>2</th>\n",
       "      <td>Power up! Robust Graph Convolutional Network v...</td>\n",
       "    </tr>\n",
       "    <tr>\n",
       "      <th>3</th>\n",
       "      <td>Releasing Graph Neural Networks with Different...</td>\n",
       "    </tr>\n",
       "    <tr>\n",
       "      <th>4</th>\n",
       "      <td>Recurrence-Aware Long-Term Cognitive Network f...</td>\n",
       "    </tr>\n",
       "    <tr>\n",
       "      <th>...</th>\n",
       "      <td>...</td>\n",
       "    </tr>\n",
       "    <tr>\n",
       "      <th>41115</th>\n",
       "      <td>An experimental study of graph-based semi-supe...</td>\n",
       "    </tr>\n",
       "    <tr>\n",
       "      <th>41116</th>\n",
       "      <td>Bayesian Differential Privacy through Posterio...</td>\n",
       "    </tr>\n",
       "    <tr>\n",
       "      <th>41117</th>\n",
       "      <td>Mining Spatio-temporal Data on Industrializati...</td>\n",
       "    </tr>\n",
       "    <tr>\n",
       "      <th>41118</th>\n",
       "      <td>Wav2Letter: an End-to-End ConvNet-based Speech...</td>\n",
       "    </tr>\n",
       "    <tr>\n",
       "      <th>41119</th>\n",
       "      <td>Generalized Low Rank Models|||||.....ab: Princ...</td>\n",
       "    </tr>\n",
       "  </tbody>\n",
       "</table>\n",
       "<p>41120 rows × 1 columns</p>\n",
       "</div>"
      ],
      "text/plain": [
       "                                                Combined\n",
       "0      Multi-Level Attention Pooling for Graph Neural...\n",
       "1      Decision Forests vs. Deep Networks: Conceptual...\n",
       "2      Power up! Robust Graph Convolutional Network v...\n",
       "3      Releasing Graph Neural Networks with Different...\n",
       "4      Recurrence-Aware Long-Term Cognitive Network f...\n",
       "...                                                  ...\n",
       "41115  An experimental study of graph-based semi-supe...\n",
       "41116  Bayesian Differential Privacy through Posterio...\n",
       "41117  Mining Spatio-temporal Data on Industrializati...\n",
       "41118  Wav2Letter: an End-to-End ConvNet-based Speech...\n",
       "41119  Generalized Low Rank Models|||||.....ab: Princ...\n",
       "\n",
       "[41120 rows x 1 columns]"
      ]
     },
     "execution_count": 241,
     "metadata": {},
     "output_type": "execute_result"
    }
   ],
   "source": [
    "df3.drop_duplicates(inplace= True)\n",
    "df3.reset_index(drop= True,inplace = True)\n",
    "df3"
   ]
  },
  {
   "cell_type": "code",
   "execution_count": 242,
   "id": "a309fcf8",
   "metadata": {},
   "outputs": [],
   "source": [
    "from sklearn.feature_extraction.text import TfidfVectorizer\n",
    "vectorizer = TfidfVectorizer()\n",
    "\n",
    "\n",
    "tfidf_matrix = vectorizer.fit_transform(df2['titles'])"
   ]
  },
  {
   "cell_type": "code",
   "execution_count": 243,
   "id": "e5bc027a",
   "metadata": {},
   "outputs": [],
   "source": [
    "tfidf_matrix1 = vectorizer.fit_transform(df3['Combined'])"
   ]
  },
  {
   "cell_type": "code",
   "execution_count": 244,
   "id": "303586b9",
   "metadata": {},
   "outputs": [
    {
     "name": "stdout",
     "output_type": "stream",
     "text": [
      "  (0, 9711)\t0.5167419487941495\n",
      "  (0, 11075)\t0.2780482816652611\n",
      "  (0, 18956)\t0.14008843706931304\n",
      "  (0, 14359)\t0.24850469117018092\n",
      "  (0, 18104)\t0.3694024869901276\n",
      "  (0, 11367)\t0.1554634761537394\n",
      "  (0, 11374)\t0.16352884180168073\n",
      "  (0, 7396)\t0.3491022979804692\n",
      "  (0, 6632)\t0.09221572357192351\n",
      "  (0, 13056)\t0.3308388378192037\n",
      "  (0, 1207)\t0.19343024982533533\n",
      "  (0, 9515)\t0.2734907927056635\n",
      "  (0, 11013)\t0.18675069421839552\n",
      "  (1, 15746)\t0.34745167357072376\n",
      "  (1, 14962)\t0.24120789673592366\n",
      "  (1, 15861)\t0.25393960925665504\n",
      "  (1, 1157)\t0.24720740942278732\n",
      "  (1, 4714)\t0.343206375789626\n",
      "  (1, 5575)\t0.2645984013252402\n",
      "  (1, 791)\t0.10090893591271319\n",
      "  (1, 15671)\t0.343206375789626\n",
      "  (1, 3202)\t0.3607459616622506\n",
      "  (1, 4133)\t0.12064846945440444\n",
      "  (1, 18696)\t0.2993163893186078\n",
      "  (1, 6661)\t0.2864738028221272\n",
      "  :\t:\n",
      "  (56177, 5615)\t0.524754636713243\n",
      "  (56177, 17429)\t0.1595371310514644\n",
      "  (56177, 751)\t0.2053089472691146\n",
      "  (56177, 16934)\t0.2654962776772991\n",
      "  (56178, 5074)\t0.7217241083649074\n",
      "  (56178, 14198)\t0.3582199427394116\n",
      "  (56178, 9462)\t0.4306739231364836\n",
      "  (56178, 4133)\t0.3014890544037441\n",
      "  (56178, 18956)\t0.2727949890185276\n",
      "  (56179, 13827)\t0.5665585892210169\n",
      "  (56179, 7075)\t0.5502270020700623\n",
      "  (56179, 9811)\t0.4898815987162303\n",
      "  (56179, 10747)\t0.36915800196137294\n",
      "  (56180, 6131)\t0.3859890591714549\n",
      "  (56180, 16201)\t0.3823320986030932\n",
      "  (56180, 2638)\t0.44492273825907286\n",
      "  (56180, 17200)\t0.39211875514070843\n",
      "  (56180, 10220)\t0.33187017313144196\n",
      "  (56180, 10412)\t0.24215185016898821\n",
      "  (56180, 16518)\t0.24272988976516355\n",
      "  (56180, 5151)\t0.2604038625987034\n",
      "  (56180, 17261)\t0.16029620070028505\n",
      "  (56180, 11755)\t0.12369401960808958\n",
      "  (56180, 9462)\t0.09901832831822012\n",
      "  (56180, 6632)\t0.08257262403279848\n"
     ]
    }
   ],
   "source": [
    "print(tfidf_matrix)"
   ]
  },
  {
   "cell_type": "code",
   "execution_count": 245,
   "id": "69f95aec",
   "metadata": {},
   "outputs": [],
   "source": [
    "from sklearn.metrics.pairwise import cosine_similarity\n",
    "\n",
    "new_text = \"Attention is not all you need\"\n",
    "new_text_vector = vectorizer.transform([new_text])"
   ]
  },
  {
   "cell_type": "code",
   "execution_count": 246,
   "id": "a6a50ca4",
   "metadata": {},
   "outputs": [],
   "source": [
    "cosine_similarities = cosine_similarity(new_text_vector, tfidf_matrix1)"
   ]
  },
  {
   "cell_type": "code",
   "execution_count": 247,
   "id": "6608456e",
   "metadata": {},
   "outputs": [
    {
     "data": {
      "text/plain": [
       "array([[0.03188407, 0.00386253, 0.00606241, ..., 0.0246056 , 0.0426449 ,\n",
       "        0.01939232]])"
      ]
     },
     "execution_count": 247,
     "metadata": {},
     "output_type": "execute_result"
    }
   ],
   "source": [
    "cosine_similarities"
   ]
  },
  {
   "cell_type": "code",
   "execution_count": 248,
   "id": "2ae4bd6d",
   "metadata": {},
   "outputs": [
    {
     "data": {
      "text/plain": [
       "array([[0.03188407, 0.00386253, 0.00606241, ..., 0.0246056 , 0.0426449 ,\n",
       "        0.01939232]])"
      ]
     },
     "execution_count": 248,
     "metadata": {},
     "output_type": "execute_result"
    }
   ],
   "source": [
    "cosine_similarities"
   ]
  },
  {
   "cell_type": "code",
   "execution_count": 249,
   "id": "7c229a67",
   "metadata": {},
   "outputs": [],
   "source": [
    "import copy\n",
    "cosine_simil = copy.deepcopy(cosine_similarities)"
   ]
  },
  {
   "cell_type": "code",
   "execution_count": 250,
   "id": "f4b806d3",
   "metadata": {},
   "outputs": [],
   "source": [
    "import numpy as np\n",
    "sorted1 = np.sort(cosine_similarities,axis=1)"
   ]
  },
  {
   "cell_type": "code",
   "execution_count": 251,
   "id": "e626ce04",
   "metadata": {},
   "outputs": [
    {
     "data": {
      "text/plain": [
       "array([[0.        , 0.        , 0.        , ..., 0.2355061 , 0.23600192,\n",
       "        0.33442275]])"
      ]
     },
     "execution_count": 251,
     "metadata": {},
     "output_type": "execute_result"
    }
   ],
   "source": [
    "sorted1"
   ]
  },
  {
   "cell_type": "code",
   "execution_count": 252,
   "id": "565a60d5",
   "metadata": {},
   "outputs": [
    {
     "name": "stdout",
     "output_type": "stream",
     "text": [
      "[[0.21636988 0.22603469 0.2355061  0.23600192 0.33442275]]\n"
     ]
    }
   ],
   "source": [
    "first_five = sorted1[:, -5:]\n",
    "print(first_five)"
   ]
  },
  {
   "cell_type": "code",
   "execution_count": 253,
   "id": "0c516b6c",
   "metadata": {},
   "outputs": [
    {
     "data": {
      "text/plain": [
       "(1, 5)"
      ]
     },
     "execution_count": 253,
     "metadata": {},
     "output_type": "execute_result"
    }
   ],
   "source": [
    "first_five.shape"
   ]
  },
  {
   "cell_type": "code",
   "execution_count": 254,
   "id": "b2cb8d61",
   "metadata": {},
   "outputs": [],
   "source": [
    "indexes_max = []\n",
    "i = 0\n",
    "while i<5:\n",
    "    indexes_max.append(cosine_simil.argmax())\n",
    "    cosine_simil = np.delete(cosine_simil, cosine_simil.argmax())\n",
    "    i+=1"
   ]
  },
  {
   "cell_type": "code",
   "execution_count": 255,
   "id": "383513c3",
   "metadata": {},
   "outputs": [
    {
     "data": {
      "text/plain": [
       "[29391, 22282, 13207, 21710, 23749]"
      ]
     },
     "execution_count": 255,
     "metadata": {},
     "output_type": "execute_result"
    }
   ],
   "source": [
    "indexes_max"
   ]
  },
  {
   "cell_type": "code",
   "execution_count": 256,
   "id": "1952a862",
   "metadata": {},
   "outputs": [],
   "source": [
    "most_similar_text_5 = []\n",
    "for all1 in indexes_max:\n",
    "    most_similar_text_5.append(df3.loc[all1, 'Combined'])"
   ]
  },
  {
   "cell_type": "code",
   "execution_count": 257,
   "id": "e310f326",
   "metadata": {},
   "outputs": [],
   "source": [
    "most_similar_index = cosine_similarities.argmax()\n",
    "\n",
    "\n",
    "most_similar_text = df3.loc[most_similar_index, 'Combined']"
   ]
  },
  {
   "cell_type": "code",
   "execution_count": 258,
   "id": "606a571d",
   "metadata": {},
   "outputs": [
    {
     "data": {
      "text/plain": [
       "29391"
      ]
     },
     "execution_count": 258,
     "metadata": {},
     "output_type": "execute_result"
    }
   ],
   "source": [
    "most_similar_index"
   ]
  },
  {
   "cell_type": "code",
   "execution_count": 259,
   "id": "3b2b8663",
   "metadata": {},
   "outputs": [
    {
     "data": {
      "text/plain": [
       "'One Point is All You Need: Directional Attention Point for Feature Learning|||||.....ab: We present a novel attention-based mechanism for learning enhanced point\\nfeatures for tasks such as point cloud classification and segmentation. Our key\\nmessage is that if the right attention point is selected, then \"one point is\\nall you need\" -- not a sequence as in a recurrent model and not a pre-selected\\nset as in all prior works. Also, where the attention point is should be\\nlearned, from data and specific to the task at hand. Our mechanism is\\ncharacterized by a new and simple convolution, which combines the feature at an\\ninput point with the feature at its associated attention point. We call such a\\npoint a directional attention point (DAP), since it is found by adding to the\\noriginal point an offset vector that is learned by maximizing the task\\nperformance in training. We show that our attention mechanism can be easily\\nincorporated into state-of-the-art point cloud classification and segmentation\\nnetworks. Extensive experiments on common benchmarks such as ModelNet40,\\nShapeNetPart, and S3DIS demonstrate that our DAP-enabled networks consistently\\noutperform the respective original networks, as well as all other competitive\\nalternatives, including those employing pre-selected sets of attention points.'"
      ]
     },
     "execution_count": 259,
     "metadata": {},
     "output_type": "execute_result"
    }
   ],
   "source": [
    "most_similar_text"
   ]
  },
  {
   "cell_type": "code",
   "execution_count": 260,
   "id": "e337996f",
   "metadata": {},
   "outputs": [
    {
     "name": "stdout",
     "output_type": "stream",
     "text": [
      "One Point is All You Need: Directional Attention Point for Feature Learning|||||.....ab: We present a novel attention-based mechanism for learning enhanced point\n",
      "features for tasks such as point cloud classification and segmentation. Our key\n",
      "message is that if the right attention point is selected, then \"one point is\n",
      "all you need\" -- not a sequence as in a recurrent model and not a pre-selected\n",
      "set as in all prior works. Also, where the attention point is should be\n",
      "learned, from data and specific to the task at hand. Our mechanism is\n",
      "characterized by a new and simple convolution, which combines the feature at an\n",
      "input point with the feature at its associated attention point. We call such a\n",
      "point a directional attention point (DAP), since it is found by adding to the\n",
      "original point an offset vector that is learned by maximizing the task\n",
      "performance in training. We show that our attention mechanism can be easily\n",
      "incorporated into state-of-the-art point cloud classification and segmentation\n",
      "networks. Extensive experiments on common benchmarks such as ModelNet40,\n",
      "ShapeNetPart, and S3DIS demonstrate that our DAP-enabled networks consistently\n",
      "outperform the respective original networks, as well as all other competitive\n",
      "alternatives, including those employing pre-selected sets of attention points. \n",
      "!.........................\n",
      "\n",
      "Attention is Not All You Need: Pure Attention Loses Rank Doubly Exponentially with Depth|||||.....ab: Attention-based architectures have become ubiquitous in machine learning, yet\n",
      "our understanding of the reasons for their effectiveness remains limited. This\n",
      "work proposes a new way to understand self-attention networks: we show that\n",
      "their output can be decomposed into a sum of smaller terms, each involving the\n",
      "operation of a sequence of attention heads across layers. Using this\n",
      "decomposition, we prove that self-attention possesses a strong inductive bias\n",
      "towards \"token uniformity\". Specifically, without skip connections or\n",
      "multi-layer perceptrons (MLPs), the output converges doubly exponentially to a\n",
      "rank-1 matrix. On the other hand, skip connections and MLPs stop the output\n",
      "from degeneration. Our experiments verify the identified convergence phenomena\n",
      "on different variants of standard transformer architectures. \n",
      "!.........................\n",
      "\n",
      "All the attention you need: Global-local, spatial-channel attention for image retrieval|||||.....ab: We address representation learning for large-scale instance-level image\n",
      "retrieval. Apart from backbone, training pipelines and loss functions, popular\n",
      "approaches have focused on different spatial pooling and attention mechanisms,\n",
      "which are at the core of learning a powerful global image representation. There\n",
      "are different forms of attention according to the interaction of elements of\n",
      "the feature tensor (local and global) and the dimensions where it is applied\n",
      "(spatial and channel). Unfortunately, each study addresses only one or two\n",
      "forms of attention and applies it to different problems like classification,\n",
      "detection or retrieval.\n",
      "  We present global-local attention module (GLAM), which is attached at the end\n",
      "of a backbone network and incorporates all four forms of attention: local and\n",
      "global, spatial and channel. We obtain a new feature tensor and, by spatial\n",
      "pooling, we learn a powerful embedding for image retrieval. Focusing on global\n",
      "descriptors, we provide empirical evidence of the interaction of all forms of\n",
      "attention and improve the state of the art on standard benchmarks. \n",
      "!.........................\n",
      "\n",
      "Robust Reference-based Super-Resolution via C2-Matching|||||.....ab: Reference-based Super-Resolution (Ref-SR) has recently emerged as a promising\n",
      "paradigm to enhance a low-resolution (LR) input image by introducing an\n",
      "additional high-resolution (HR) reference image. Existing Ref-SR methods mostly\n",
      "rely on implicit correspondence matching to borrow HR textures from reference\n",
      "images to compensate for the information loss in input images. However,\n",
      "performing local transfer is difficult because of two gaps between input and\n",
      "reference images: the transformation gap (e.g. scale and rotation) and the\n",
      "resolution gap (e.g. HR and LR). To tackle these challenges, we propose\n",
      "C2-Matching in this work, which produces explicit robust matching crossing\n",
      "transformation and resolution. 1) For the transformation gap, we propose a\n",
      "contrastive correspondence network, which learns transformation-robust\n",
      "correspondences using augmented views of the input image. 2) For the resolution\n",
      "gap, we adopt a teacher-student correlation distillation, which distills\n",
      "knowledge from the easier HR-HR matching to guide the more ambiguous LR-HR\n",
      "matching. 3) Finally, we design a dynamic aggregation module to address the\n",
      "potential misalignment issue. In addition, to faithfully evaluate the\n",
      "performance of Ref-SR under a realistic setting, we contribute the\n",
      "Webly-Referenced SR (WR-SR) dataset, mimicking the practical usage scenario.\n",
      "Extensive experiments demonstrate that our proposed C2-Matching significantly\n",
      "outperforms state of the arts by over 1dB on the standard CUFED5 benchmark.\n",
      "Notably, it also shows great generalizability on WR-SR dataset as well as\n",
      "robustness across large scale and rotation transformations. \n",
      "!.........................\n",
      "\n",
      "Semi-Supervised Learning with Normalizing Flows|||||.....ab: Normalizing flows transform a latent distribution through an invertible\n",
      "neural network for a flexible and pleasingly simple approach to generative\n",
      "modelling, while preserving an exact likelihood. We propose FlowGMM, an\n",
      "end-to-end approach to generative semi supervised learning with normalizing\n",
      "flows, using a latent Gaussian mixture model. FlowGMM is distinct in its\n",
      "simplicity, unified treatment of labelled and unlabelled data with an exact\n",
      "likelihood, interpretability, and broad applicability beyond image data. We\n",
      "show promising results on a wide range of applications, including AG-News and\n",
      "Yahoo Answers text data, tabular data, and semi-supervised image\n",
      "classification. We also show that FlowGMM can discover interpretable structure,\n",
      "provide real-time optimization-free feature visualizations, and specify well\n",
      "calibrated predictive distributions. \n",
      "!.........................\n",
      "\n"
     ]
    }
   ],
   "source": [
    "for item in most_similar_text_5:\n",
    "    print(item,'\\n!.........................\\n')"
   ]
  },
  {
   "cell_type": "code",
   "execution_count": 261,
   "id": "6340612d",
   "metadata": {},
   "outputs": [
    {
     "name": "stdout",
     "output_type": "stream",
     "text": [
      "huggingface/tokenizers: The current process just got forked, after parallelism has already been used. Disabling parallelism to avoid deadlocks...\n",
      "To disable this warning, you can either:\n",
      "\t- Avoid using `tokenizers` before the fork if possible\n",
      "\t- Explicitly set the environment variable TOKENIZERS_PARALLELISM=(true | false)\n",
      "Requirement already satisfied: sentence-transformers in /Library/Frameworks/Python.framework/Versions/3.10/lib/python3.10/site-packages (2.2.2)\n",
      "Requirement already satisfied: tqdm in /Library/Frameworks/Python.framework/Versions/3.10/lib/python3.10/site-packages (from sentence-transformers) (4.65.0)\n",
      "Requirement already satisfied: torch>=1.6.0 in /Library/Frameworks/Python.framework/Versions/3.10/lib/python3.10/site-packages (from sentence-transformers) (2.0.0)\n",
      "Requirement already satisfied: numpy in /Library/Frameworks/Python.framework/Versions/3.10/lib/python3.10/site-packages (from sentence-transformers) (1.23.4)\n",
      "Requirement already satisfied: transformers<5.0.0,>=4.6.0 in /Library/Frameworks/Python.framework/Versions/3.10/lib/python3.10/site-packages (from sentence-transformers) (4.29.1)\n",
      "Requirement already satisfied: scikit-learn in /Library/Frameworks/Python.framework/Versions/3.10/lib/python3.10/site-packages (from sentence-transformers) (1.2.0)\n",
      "Requirement already satisfied: huggingface-hub>=0.4.0 in /Library/Frameworks/Python.framework/Versions/3.10/lib/python3.10/site-packages (from sentence-transformers) (0.14.1)\n",
      "Requirement already satisfied: nltk in /Library/Frameworks/Python.framework/Versions/3.10/lib/python3.10/site-packages (from sentence-transformers) (3.8.1)\n",
      "Requirement already satisfied: scipy in /Library/Frameworks/Python.framework/Versions/3.10/lib/python3.10/site-packages (from sentence-transformers) (1.9.3)\n",
      "Requirement already satisfied: torchvision in /Library/Frameworks/Python.framework/Versions/3.10/lib/python3.10/site-packages (from sentence-transformers) (0.15.1)\n",
      "Requirement already satisfied: sentencepiece in /Library/Frameworks/Python.framework/Versions/3.10/lib/python3.10/site-packages (from sentence-transformers) (0.1.99)\n",
      "Requirement already satisfied: filelock in /Library/Frameworks/Python.framework/Versions/3.10/lib/python3.10/site-packages (from huggingface-hub>=0.4.0->sentence-transformers) (3.11.0)\n",
      "Requirement already satisfied: requests in /Library/Frameworks/Python.framework/Versions/3.10/lib/python3.10/site-packages (from huggingface-hub>=0.4.0->sentence-transformers) (2.28.1)\n",
      "Requirement already satisfied: packaging>=20.9 in /Library/Frameworks/Python.framework/Versions/3.10/lib/python3.10/site-packages (from huggingface-hub>=0.4.0->sentence-transformers) (21.3)\n",
      "Requirement already satisfied: pyyaml>=5.1 in /Library/Frameworks/Python.framework/Versions/3.10/lib/python3.10/site-packages (from huggingface-hub>=0.4.0->sentence-transformers) (6.0)\n",
      "Requirement already satisfied: fsspec in /Library/Frameworks/Python.framework/Versions/3.10/lib/python3.10/site-packages (from huggingface-hub>=0.4.0->sentence-transformers) (2023.5.0)\n",
      "Requirement already satisfied: typing-extensions>=3.7.4.3 in /Library/Frameworks/Python.framework/Versions/3.10/lib/python3.10/site-packages (from huggingface-hub>=0.4.0->sentence-transformers) (4.5.0)\n",
      "Requirement already satisfied: jinja2 in /Library/Frameworks/Python.framework/Versions/3.10/lib/python3.10/site-packages (from torch>=1.6.0->sentence-transformers) (3.1.2)\n",
      "Requirement already satisfied: networkx in /Library/Frameworks/Python.framework/Versions/3.10/lib/python3.10/site-packages (from torch>=1.6.0->sentence-transformers) (3.1)\n",
      "Requirement already satisfied: sympy in /Library/Frameworks/Python.framework/Versions/3.10/lib/python3.10/site-packages (from torch>=1.6.0->sentence-transformers) (1.11.1)\n",
      "Requirement already satisfied: regex!=2019.12.17 in /Library/Frameworks/Python.framework/Versions/3.10/lib/python3.10/site-packages (from transformers<5.0.0,>=4.6.0->sentence-transformers) (2023.5.2)\n",
      "Requirement already satisfied: tokenizers!=0.11.3,<0.14,>=0.11.1 in /Library/Frameworks/Python.framework/Versions/3.10/lib/python3.10/site-packages (from transformers<5.0.0,>=4.6.0->sentence-transformers) (0.13.3)\n",
      "Requirement already satisfied: click in /Library/Frameworks/Python.framework/Versions/3.10/lib/python3.10/site-packages (from nltk->sentence-transformers) (8.1.3)\n",
      "Requirement already satisfied: joblib in /Library/Frameworks/Python.framework/Versions/3.10/lib/python3.10/site-packages (from nltk->sentence-transformers) (1.2.0)\n",
      "Requirement already satisfied: threadpoolctl>=2.0.0 in /Library/Frameworks/Python.framework/Versions/3.10/lib/python3.10/site-packages (from scikit-learn->sentence-transformers) (3.1.0)\n",
      "Requirement already satisfied: pillow!=8.3.*,>=5.3.0 in /Library/Frameworks/Python.framework/Versions/3.10/lib/python3.10/site-packages (from torchvision->sentence-transformers) (9.3.0)\n",
      "Requirement already satisfied: pyparsing!=3.0.5,>=2.0.2 in /Library/Frameworks/Python.framework/Versions/3.10/lib/python3.10/site-packages (from packaging>=20.9->huggingface-hub>=0.4.0->sentence-transformers) (3.0.9)\n",
      "Requirement already satisfied: MarkupSafe>=2.0 in /Library/Frameworks/Python.framework/Versions/3.10/lib/python3.10/site-packages (from jinja2->torch>=1.6.0->sentence-transformers) (2.1.1)\n",
      "Requirement already satisfied: urllib3<1.27,>=1.21.1 in /Library/Frameworks/Python.framework/Versions/3.10/lib/python3.10/site-packages (from requests->huggingface-hub>=0.4.0->sentence-transformers) (1.26.12)\n",
      "Requirement already satisfied: idna<4,>=2.5 in /Library/Frameworks/Python.framework/Versions/3.10/lib/python3.10/site-packages (from requests->huggingface-hub>=0.4.0->sentence-transformers) (3.4)\n",
      "Requirement already satisfied: charset-normalizer<3,>=2 in /Library/Frameworks/Python.framework/Versions/3.10/lib/python3.10/site-packages (from requests->huggingface-hub>=0.4.0->sentence-transformers) (2.1.1)\n",
      "Requirement already satisfied: certifi>=2017.4.17 in /Library/Frameworks/Python.framework/Versions/3.10/lib/python3.10/site-packages (from requests->huggingface-hub>=0.4.0->sentence-transformers) (2022.12.7)\n",
      "Requirement already satisfied: mpmath>=0.19 in /Library/Frameworks/Python.framework/Versions/3.10/lib/python3.10/site-packages (from sympy->torch>=1.6.0->sentence-transformers) (1.3.0)\n",
      "\n",
      "\u001b[1m[\u001b[0m\u001b[34;49mnotice\u001b[0m\u001b[1;39;49m]\u001b[0m\u001b[39;49m A new release of pip is available: \u001b[0m\u001b[31;49m23.0.1\u001b[0m\u001b[39;49m -> \u001b[0m\u001b[32;49m23.1.2\u001b[0m\n",
      "\u001b[1m[\u001b[0m\u001b[34;49mnotice\u001b[0m\u001b[1;39;49m]\u001b[0m\u001b[39;49m To update, run: \u001b[0m\u001b[32;49mpip3.10 install --upgrade pip\u001b[0m\n"
     ]
    }
   ],
   "source": [
    "!pip3.10 install -U sentence-transformers"
   ]
  },
  {
   "cell_type": "code",
   "execution_count": 262,
   "id": "b28c3494",
   "metadata": {},
   "outputs": [
    {
     "data": {
      "text/html": [
       "<div>\n",
       "<style scoped>\n",
       "    .dataframe tbody tr th:only-of-type {\n",
       "        vertical-align: middle;\n",
       "    }\n",
       "\n",
       "    .dataframe tbody tr th {\n",
       "        vertical-align: top;\n",
       "    }\n",
       "\n",
       "    .dataframe thead th {\n",
       "        text-align: right;\n",
       "    }\n",
       "</style>\n",
       "<table border=\"1\" class=\"dataframe\">\n",
       "  <thead>\n",
       "    <tr style=\"text-align: right;\">\n",
       "      <th></th>\n",
       "      <th>terms</th>\n",
       "      <th>titles</th>\n",
       "      <th>abstracts</th>\n",
       "      <th>Combined</th>\n",
       "    </tr>\n",
       "  </thead>\n",
       "  <tbody>\n",
       "    <tr>\n",
       "      <th>0</th>\n",
       "      <td>['cs.LG']</td>\n",
       "      <td>Multi-Level Attention Pooling for Graph Neural...</td>\n",
       "      <td>Graph neural networks (GNNs) have been widely ...</td>\n",
       "      <td>Multi-Level Attention Pooling for Graph Neural...</td>\n",
       "    </tr>\n",
       "    <tr>\n",
       "      <th>1</th>\n",
       "      <td>['cs.LG', 'cs.AI']</td>\n",
       "      <td>Decision Forests vs. Deep Networks: Conceptual...</td>\n",
       "      <td>Deep networks and decision forests (such as ra...</td>\n",
       "      <td>Decision Forests vs. Deep Networks: Conceptual...</td>\n",
       "    </tr>\n",
       "    <tr>\n",
       "      <th>2</th>\n",
       "      <td>['cs.LG', 'cs.CR', 'stat.ML']</td>\n",
       "      <td>Power up! Robust Graph Convolutional Network v...</td>\n",
       "      <td>Graph convolutional networks (GCNs) are powerf...</td>\n",
       "      <td>Power up! Robust Graph Convolutional Network v...</td>\n",
       "    </tr>\n",
       "    <tr>\n",
       "      <th>3</th>\n",
       "      <td>['cs.LG', 'cs.CR']</td>\n",
       "      <td>Releasing Graph Neural Networks with Different...</td>\n",
       "      <td>With the increasing popularity of Graph Neural...</td>\n",
       "      <td>Releasing Graph Neural Networks with Different...</td>\n",
       "    </tr>\n",
       "    <tr>\n",
       "      <th>4</th>\n",
       "      <td>['cs.LG']</td>\n",
       "      <td>Recurrence-Aware Long-Term Cognitive Network f...</td>\n",
       "      <td>Machine learning solutions for pattern classif...</td>\n",
       "      <td>Recurrence-Aware Long-Term Cognitive Network f...</td>\n",
       "    </tr>\n",
       "    <tr>\n",
       "      <th>...</th>\n",
       "      <td>...</td>\n",
       "      <td>...</td>\n",
       "      <td>...</td>\n",
       "      <td>...</td>\n",
       "    </tr>\n",
       "    <tr>\n",
       "      <th>41122</th>\n",
       "      <td>['stat.ML']</td>\n",
       "      <td>An experimental study of graph-based semi-supe...</td>\n",
       "      <td>The volume of data generated by internet and s...</td>\n",
       "      <td>An experimental study of graph-based semi-supe...</td>\n",
       "    </tr>\n",
       "    <tr>\n",
       "      <th>41123</th>\n",
       "      <td>['stat.ML', 'cs.LG']</td>\n",
       "      <td>Bayesian Differential Privacy through Posterio...</td>\n",
       "      <td>Differential privacy formalises privacy-preser...</td>\n",
       "      <td>Bayesian Differential Privacy through Posterio...</td>\n",
       "    </tr>\n",
       "    <tr>\n",
       "      <th>41124</th>\n",
       "      <td>['cs.CV', 'cs.IR']</td>\n",
       "      <td>Mining Spatio-temporal Data on Industrializati...</td>\n",
       "      <td>Despite the growing availability of big data i...</td>\n",
       "      <td>Mining Spatio-temporal Data on Industrializati...</td>\n",
       "    </tr>\n",
       "    <tr>\n",
       "      <th>41125</th>\n",
       "      <td>['cs.LG', 'cs.AI', 'cs.CL', 'I.2.6; I.2.7']</td>\n",
       "      <td>Wav2Letter: an End-to-End ConvNet-based Speech...</td>\n",
       "      <td>This paper presents a simple end-to-end model ...</td>\n",
       "      <td>Wav2Letter: an End-to-End ConvNet-based Speech...</td>\n",
       "    </tr>\n",
       "    <tr>\n",
       "      <th>41126</th>\n",
       "      <td>['stat.ML', 'cs.LG', 'math.OC']</td>\n",
       "      <td>Generalized Low Rank Models</td>\n",
       "      <td>Principal components analysis (PCA) is a well-...</td>\n",
       "      <td>Generalized Low Rank Models|||||.....ab: Princ...</td>\n",
       "    </tr>\n",
       "  </tbody>\n",
       "</table>\n",
       "<p>41127 rows × 4 columns</p>\n",
       "</div>"
      ],
      "text/plain": [
       "                                             terms  \\\n",
       "0                                        ['cs.LG']   \n",
       "1                               ['cs.LG', 'cs.AI']   \n",
       "2                    ['cs.LG', 'cs.CR', 'stat.ML']   \n",
       "3                               ['cs.LG', 'cs.CR']   \n",
       "4                                        ['cs.LG']   \n",
       "...                                            ...   \n",
       "41122                                  ['stat.ML']   \n",
       "41123                         ['stat.ML', 'cs.LG']   \n",
       "41124                           ['cs.CV', 'cs.IR']   \n",
       "41125  ['cs.LG', 'cs.AI', 'cs.CL', 'I.2.6; I.2.7']   \n",
       "41126              ['stat.ML', 'cs.LG', 'math.OC']   \n",
       "\n",
       "                                                  titles  \\\n",
       "0      Multi-Level Attention Pooling for Graph Neural...   \n",
       "1      Decision Forests vs. Deep Networks: Conceptual...   \n",
       "2      Power up! Robust Graph Convolutional Network v...   \n",
       "3      Releasing Graph Neural Networks with Different...   \n",
       "4      Recurrence-Aware Long-Term Cognitive Network f...   \n",
       "...                                                  ...   \n",
       "41122  An experimental study of graph-based semi-supe...   \n",
       "41123  Bayesian Differential Privacy through Posterio...   \n",
       "41124  Mining Spatio-temporal Data on Industrializati...   \n",
       "41125  Wav2Letter: an End-to-End ConvNet-based Speech...   \n",
       "41126                        Generalized Low Rank Models   \n",
       "\n",
       "                                               abstracts  \\\n",
       "0      Graph neural networks (GNNs) have been widely ...   \n",
       "1      Deep networks and decision forests (such as ra...   \n",
       "2      Graph convolutional networks (GCNs) are powerf...   \n",
       "3      With the increasing popularity of Graph Neural...   \n",
       "4      Machine learning solutions for pattern classif...   \n",
       "...                                                  ...   \n",
       "41122  The volume of data generated by internet and s...   \n",
       "41123  Differential privacy formalises privacy-preser...   \n",
       "41124  Despite the growing availability of big data i...   \n",
       "41125  This paper presents a simple end-to-end model ...   \n",
       "41126  Principal components analysis (PCA) is a well-...   \n",
       "\n",
       "                                                Combined  \n",
       "0      Multi-Level Attention Pooling for Graph Neural...  \n",
       "1      Decision Forests vs. Deep Networks: Conceptual...  \n",
       "2      Power up! Robust Graph Convolutional Network v...  \n",
       "3      Releasing Graph Neural Networks with Different...  \n",
       "4      Recurrence-Aware Long-Term Cognitive Network f...  \n",
       "...                                                  ...  \n",
       "41122  An experimental study of graph-based semi-supe...  \n",
       "41123  Bayesian Differential Privacy through Posterio...  \n",
       "41124  Mining Spatio-temporal Data on Industrializati...  \n",
       "41125  Wav2Letter: an End-to-End ConvNet-based Speech...  \n",
       "41126  Generalized Low Rank Models|||||.....ab: Princ...  \n",
       "\n",
       "[41127 rows x 4 columns]"
      ]
     },
     "execution_count": 262,
     "metadata": {},
     "output_type": "execute_result"
    }
   ],
   "source": [
    "df2.drop_duplicates(inplace= True)\n",
    "df2.reset_index(drop= True,inplace = True)\n",
    "df2"
   ]
  },
  {
   "cell_type": "code",
   "execution_count": 263,
   "id": "21c81185",
   "metadata": {},
   "outputs": [
    {
     "name": "stdout",
     "output_type": "stream",
     "text": [
      "[[ 0.06643409 -0.04954604  0.06388084 ...  0.00106309 -0.12156386\n",
      "  -0.06962776]\n",
      " [ 0.09212266 -0.07606941  0.0657287  ... -0.0856517  -0.09266537\n",
      "   0.00725293]\n",
      " [-0.08162682  0.02428936  0.01888737 ...  0.00806165 -0.05129535\n",
      "  -0.05874001]\n",
      " ...\n",
      " [ 0.01227981 -0.08568834 -0.02782776 ... -0.0525798  -0.1080669\n",
      "   0.0784331 ]\n",
      " [-0.07258197 -0.12690918 -0.00535553 ...  0.03597708 -0.03986146\n",
      "  -0.05971038]\n",
      " [ 0.00768864 -0.10124185  0.08909855 ... -0.08199873 -0.05649747\n",
      "   0.09007052]]\n"
     ]
    }
   ],
   "source": [
    "from sentence_transformers import SentenceTransformer\n",
    "\n",
    "model = SentenceTransformer('sentence-transformers/all-MiniLM-L6-v2')\n",
    "embeddings = model.encode(df2['titles'])\n",
    "print(embeddings)"
   ]
  },
  {
   "cell_type": "code",
   "execution_count": 264,
   "id": "fde40dcf",
   "metadata": {},
   "outputs": [
    {
     "data": {
      "text/plain": [
       "array([ 8.41662884e-02, -2.36604456e-02, -1.51677094e-02, -3.00083701e-02,\n",
       "        8.17951038e-02,  2.19807774e-02,  6.44388869e-02, -2.66084969e-02,\n",
       "        2.89261360e-02, -2.99789980e-02, -1.69187430e-02, -3.14490162e-02,\n",
       "       -5.66774122e-02, -3.12639680e-03, -1.35714039e-02,  1.83753204e-02,\n",
       "        1.28123909e-01, -4.11191061e-02, -1.09221242e-01, -2.05069091e-02,\n",
       "       -2.15863567e-02, -1.03924386e-02,  9.49370787e-02, -3.11528742e-02,\n",
       "       -1.04102857e-01,  3.01336008e-03, -6.85186312e-02, -7.08399266e-02,\n",
       "       -4.70404542e-04, -1.79661177e-02,  2.75995173e-02, -1.60619838e-03,\n",
       "        5.53941801e-02,  8.45082998e-02, -7.78045282e-02,  1.04016036e-01,\n",
       "       -8.23812038e-02,  2.83071194e-02, -1.05232755e-02, -7.15080351e-02,\n",
       "       -3.83403003e-02,  1.79515325e-03, -2.85560824e-02,  6.20898381e-02,\n",
       "        5.22895157e-02, -6.62407652e-02,  4.88974936e-02, -9.83717758e-03,\n",
       "        1.88271292e-02, -1.33619159e-01, -1.19439334e-01, -1.13510534e-01,\n",
       "       -2.29885299e-02,  1.53279714e-02,  3.00445929e-02,  5.16401343e-02,\n",
       "       -1.87983830e-02,  3.39599364e-02,  5.31363748e-02, -4.28511277e-02,\n",
       "       -6.56534582e-02,  2.57471427e-02,  1.70210656e-03, -7.28399381e-02,\n",
       "        2.93130483e-02,  2.96529010e-02,  1.09519623e-02, -6.79771788e-03,\n",
       "       -5.69628812e-02,  8.38831291e-02,  1.77950077e-02,  6.27948716e-02,\n",
       "        6.95283636e-02,  3.88089791e-02,  6.36079311e-02,  2.77329013e-02,\n",
       "       -3.33078727e-02, -5.37281185e-02,  7.63673931e-02,  2.82313954e-02,\n",
       "       -7.48530682e-03, -9.70378667e-02,  8.08574911e-03, -3.48002873e-02,\n",
       "        9.29376334e-02,  3.68141709e-03, -5.06770052e-03, -6.10368736e-02,\n",
       "       -7.56382495e-02,  3.67046967e-02, -8.99479985e-02, -9.12150145e-02,\n",
       "       -1.90468971e-04, -1.97233520e-02,  2.05620322e-02,  8.27654079e-03,\n",
       "       -1.76142044e-02, -1.81898177e-02, -9.56126526e-02,  1.02857590e-01,\n",
       "        4.30929288e-02,  5.91956973e-02,  7.18539283e-02,  4.41395603e-02,\n",
       "       -6.04178151e-03,  4.47628163e-02, -1.72107909e-02,  2.41199564e-02,\n",
       "       -7.43110254e-02, -2.80829966e-02, -1.74032114e-02, -5.69979288e-03,\n",
       "       -1.77152120e-02, -5.06928638e-02,  5.94462864e-02, -5.59842736e-02,\n",
       "        2.94591412e-02, -1.03118494e-02,  3.51227298e-02,  1.47099970e-02,\n",
       "        6.49215356e-02,  5.86999580e-04, -4.01199684e-02,  6.06930070e-02,\n",
       "        2.85617425e-03, -1.01894543e-01,  3.58960032e-02, -1.29023573e-33,\n",
       "        5.93636036e-02,  1.65570173e-02,  6.63939677e-03,  6.18729033e-02,\n",
       "       -2.44829878e-02,  1.20560676e-02,  4.05592397e-02, -3.30037028e-02,\n",
       "        3.09556294e-02, -3.60916555e-02,  4.73572798e-02, -5.60686598e-03,\n",
       "       -1.82208419e-02,  4.39920910e-02,  2.78945547e-02,  3.29367723e-03,\n",
       "       -1.29003953e-02,  7.20571578e-02, -3.91090326e-02,  2.20040306e-02,\n",
       "       -6.45014793e-02, -3.22425030e-02, -2.71313936e-02, -2.29861792e-02,\n",
       "       -1.72770792e-03,  1.42954057e-03,  2.91737318e-02, -4.37176749e-02,\n",
       "       -2.14668121e-02,  4.81723482e-03, -7.02446401e-02,  7.29562566e-02,\n",
       "       -6.87300810e-04, -2.96444744e-02, -1.10276288e-03, -9.02425721e-02,\n",
       "       -4.47554626e-02, -6.01498559e-02,  5.20102829e-02, -4.87718582e-02,\n",
       "        2.68171597e-02,  7.89600611e-02, -7.74629116e-02, -1.56977528e-03,\n",
       "       -5.01047187e-02,  6.86407164e-02,  1.43618975e-02,  1.71189755e-02,\n",
       "       -5.56035228e-02,  4.21924591e-02,  7.44923204e-02, -3.54271568e-02,\n",
       "       -5.13180392e-03, -6.68913350e-02, -7.45040402e-02,  2.77227499e-02,\n",
       "        8.56264606e-02,  7.15062469e-02,  4.34960462e-02,  4.29339260e-02,\n",
       "        4.15627919e-02, -4.01030369e-02, -2.72988137e-02,  6.06432930e-02,\n",
       "        4.68058921e-02,  5.76535659e-03, -3.41142304e-02,  5.07195480e-02,\n",
       "        5.62483668e-02,  1.90010183e-02, -4.76059318e-02,  2.93121934e-02,\n",
       "       -1.15671568e-02,  4.85102758e-02,  3.59317870e-03,  9.23852064e-03,\n",
       "        5.41867688e-02, -7.54436180e-02,  6.81162104e-02,  2.12103948e-02,\n",
       "        8.64551812e-02, -3.41449641e-02, -5.79719841e-02, -5.49656851e-03,\n",
       "       -5.15704267e-02, -3.73615660e-02,  6.59367293e-02, -8.15792533e-04,\n",
       "       -4.69322875e-02,  4.59683873e-02, -3.80324498e-02,  6.04515783e-02,\n",
       "       -4.92092734e-03, -3.40704285e-02, -7.26890713e-02,  1.51653189e-33,\n",
       "        4.07125205e-02,  5.56863062e-02, -1.76641010e-02, -2.73930915e-02,\n",
       "       -3.83463167e-02,  5.79780936e-02, -1.90194044e-02, -2.13694423e-02,\n",
       "       -1.70952454e-02,  8.84942561e-02, -7.11713778e-03, -5.20933233e-02,\n",
       "       -6.27764827e-03, -2.60790568e-02,  6.47057896e-04,  4.94414195e-03,\n",
       "        1.07227430e-01, -1.49771096e-02, -1.23659387e-01,  2.66144201e-02,\n",
       "       -6.49004281e-02,  1.41196445e-01,  1.21993842e-02, -2.54791640e-02,\n",
       "       -3.63189988e-02,  3.58773768e-02, -1.80613231e-02,  3.94544266e-02,\n",
       "       -4.45019826e-02, -7.60555863e-02, -7.64623880e-02,  3.67978849e-02,\n",
       "       -2.85943653e-02, -3.71035491e-03, -4.63025421e-02,  3.70384101e-03,\n",
       "        4.45068406e-04,  4.95678075e-02, -5.69838807e-02,  3.84714231e-02,\n",
       "        4.72013326e-03,  3.35430540e-03, -1.86254028e-02, -2.21984251e-03,\n",
       "       -6.84184209e-02, -7.70089566e-04,  1.51124671e-02,  2.76737679e-02,\n",
       "       -7.92822838e-02,  1.16773903e-01, -7.43807033e-02,  4.06460790e-03,\n",
       "        3.40934880e-02, -3.37475240e-02, -5.76397926e-02,  6.04925528e-02,\n",
       "        3.76843400e-02,  1.80866141e-02,  4.73166779e-02, -4.13384438e-02,\n",
       "        4.39169779e-02,  1.45693962e-02, -4.08821702e-02, -2.03120522e-02,\n",
       "        5.66137470e-02, -1.91837270e-02,  1.75760407e-02, -4.36441377e-02,\n",
       "        8.26589093e-02, -6.01165779e-02,  6.85288012e-02,  1.08605553e-03,\n",
       "       -1.21541480e-02, -1.93979230e-03, -4.32239696e-02,  5.25570065e-02,\n",
       "       -4.14369591e-02, -4.10900125e-03, -3.98825146e-02, -7.02241212e-02,\n",
       "       -8.46320018e-03,  7.56888324e-03, -1.97986532e-02, -4.18907255e-02,\n",
       "       -4.45270818e-03,  7.79426023e-02,  1.04449995e-01, -4.56421226e-02,\n",
       "        9.93614085e-04, -8.83370191e-02, -7.50444233e-02,  2.20766421e-02,\n",
       "        1.46584352e-02,  5.11800945e-02, -2.70373980e-03, -2.09863771e-08,\n",
       "       -8.00723583e-02, -3.89602594e-02,  1.83997620e-02, -6.81440625e-03,\n",
       "        7.01755360e-02, -8.99777487e-02, -3.97980399e-02,  9.50315148e-02,\n",
       "       -5.76748401e-02,  3.71815786e-02,  1.56863742e-02,  1.05193947e-02,\n",
       "        1.00243173e-03,  4.65395153e-02,  5.86154833e-02, -9.99729335e-03,\n",
       "        5.40197939e-02, -1.43942675e-02, -3.97196785e-02, -2.93833204e-02,\n",
       "       -1.41099759e-03,  2.99995597e-02, -2.98910886e-02, -1.37562184e-02,\n",
       "        3.69166657e-02,  5.60759334e-03,  5.83528914e-03,  7.15673342e-02,\n",
       "        6.74095936e-04, -7.98768178e-03,  1.38635457e-01,  2.66459640e-02,\n",
       "       -9.01861023e-03, -6.63264692e-02,  6.27041422e-03,  1.77145842e-02,\n",
       "        6.53744712e-02, -2.73154844e-02, -8.14358983e-03, -1.51991267e-02,\n",
       "       -6.48827944e-03,  1.42343352e-02,  7.51848742e-02,  1.40600041e-01,\n",
       "       -3.70780416e-02,  7.10461885e-02, -1.88702419e-02, -8.38333145e-02,\n",
       "        2.08537839e-03, -8.60503912e-02,  6.82335794e-02, -7.81444088e-02,\n",
       "        5.51996492e-02,  1.20207611e-02, -4.18620296e-02,  6.54680431e-02,\n",
       "        7.47455209e-02,  6.46927953e-02, -3.37135158e-02, -3.56297009e-03,\n",
       "        1.42257199e-01,  8.27315450e-02, -8.99791420e-02, -1.88738964e-02],\n",
       "      dtype=float32)"
      ]
     },
     "execution_count": 264,
     "metadata": {},
     "output_type": "execute_result"
    }
   ],
   "source": [
    "new_text_encoded = model.encode(new_text)\n",
    "new_text_encoded"
   ]
  },
  {
   "cell_type": "code",
   "execution_count": 265,
   "id": "b96b8e2a",
   "metadata": {},
   "outputs": [
    {
     "data": {
      "text/plain": [
       "array([[ 0.3581707 ,  0.10183421,  0.08075173, ..., -0.03029852,\n",
       "         0.14660074,  0.08696867]], dtype=float32)"
      ]
     },
     "execution_count": 265,
     "metadata": {},
     "output_type": "execute_result"
    }
   ],
   "source": [
    "cosine_similarities_2 = cosine_similarity([new_text_encoded], embeddings)\n",
    "cosine_similarities_2"
   ]
  },
  {
   "cell_type": "code",
   "execution_count": 266,
   "id": "8a69525f",
   "metadata": {},
   "outputs": [
    {
     "data": {
      "text/plain": [
       "tensor([[ 0.3582,  0.1018,  0.0808,  ..., -0.0303,  0.1466,  0.0870]])"
      ]
     },
     "execution_count": 266,
     "metadata": {},
     "output_type": "execute_result"
    }
   ],
   "source": [
    "torch.from_numpy(cosine_similarities_2)"
   ]
  },
  {
   "cell_type": "code",
   "execution_count": 267,
   "id": "daa13f35",
   "metadata": {},
   "outputs": [
    {
     "data": {
      "text/plain": [
       "torch.return_types.topk(\n",
       "values=tensor([[0.7756, 0.7261, 0.7174, 0.7138, 0.6914]]),\n",
       "indices=tensor([[22910, 22285, 28559, 29962, 21475]]))"
      ]
     },
     "execution_count": 267,
     "metadata": {},
     "output_type": "execute_result"
    }
   ],
   "source": [
    "import torch\n",
    "top_similar_papers = torch.topk(torch.from_numpy(cosine_similarities_2),dim=1, k=5,sorted=True)\n",
    "top_similar_papers"
   ]
  },
  {
   "cell_type": "code",
   "execution_count": 268,
   "id": "94c28df8",
   "metadata": {},
   "outputs": [
    {
     "name": "stdout",
     "output_type": "stream",
     "text": [
      "22910                 Attention that does not Explain Away\n",
      "22285    Attention is Not All You Need: Pure Attention ...\n",
      "28559             Why Attentions May Not Be Interpretable?\n",
      "29962                              Attention as Activation\n",
      "21475                                 Invertible Attention\n",
      "Name: titles, dtype: object\n"
     ]
    }
   ],
   "source": [
    "sentences = df2['titles']\n",
    "for i in top_similar_papers.indices.tolist():\n",
    "    print(sentences[i])"
   ]
  },
  {
   "cell_type": "code",
   "execution_count": 270,
   "id": "0c4aaf46",
   "metadata": {},
   "outputs": [
    {
     "data": {
      "text/plain": [
       "['transformer.joblib']"
      ]
     },
     "execution_count": 270,
     "metadata": {},
     "output_type": "execute_result"
    }
   ],
   "source": [
    "import joblib\n",
    "joblib.dump(model, 'transformer.joblib') "
   ]
  },
  {
   "cell_type": "code",
   "execution_count": 271,
   "id": "b49286e2",
   "metadata": {},
   "outputs": [
    {
     "data": {
      "text/plain": [
       "['sentences.pkl']"
      ]
     },
     "execution_count": 271,
     "metadata": {},
     "output_type": "execute_result"
    }
   ],
   "source": [
    "joblib.dump(embeddings, 'embeddings.pkl')\n",
    "joblib.dump(sentences, 'sentences.pkl')"
   ]
  },
  {
   "cell_type": "code",
   "execution_count": null,
   "id": "64bddc8a",
   "metadata": {},
   "outputs": [],
   "source": []
  }
 ],
 "metadata": {
  "kernelspec": {
   "display_name": "Python 3 (ipykernel)",
   "language": "python",
   "name": "python3"
  },
  "language_info": {
   "codemirror_mode": {
    "name": "ipython",
    "version": 3
   },
   "file_extension": ".py",
   "mimetype": "text/x-python",
   "name": "python",
   "nbconvert_exporter": "python",
   "pygments_lexer": "ipython3",
   "version": "3.10.7"
  }
 },
 "nbformat": 4,
 "nbformat_minor": 5
}
